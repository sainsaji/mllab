{
  "nbformat": 4,
  "nbformat_minor": 0,
  "metadata": {
    "colab": {
      "name": "Lab3 2147230 bayes",
      "provenance": []
    },
    "kernelspec": {
      "name": "python3",
      "display_name": "Python 3"
    },
    "language_info": {
      "name": "python"
    }
  },
  "cells": [
    {
      "cell_type": "markdown",
      "source": [
        "# **Setting KNN for Comparison with Bayes**"
      ],
      "metadata": {
        "id": "GUVU-SbLzD_O"
      }
    },
    {
      "cell_type": "markdown",
      "source": [
        "# **Imporing Libraries and Dataset**"
      ],
      "metadata": {
        "id": "CVoP2r7azM0F"
      }
    },
    {
      "cell_type": "code",
      "source": [
        "import numpy as np\n",
        "import matplotlib.pyplot as plt\n",
        "import pandas as pd\n",
        "import sklearn\n",
        "import locale\n",
        "from locale import atof"
      ],
      "metadata": {
        "id": "qf2N_94xvC1n"
      },
      "execution_count": null,
      "outputs": []
    },
    {
      "cell_type": "code",
      "source": [
        "data_path = \"/content/CPU_benchmark.csv\"\n",
        "ds = pd.read_csv(data_path)"
      ],
      "metadata": {
        "id": "tCNQGa3Ru_2l"
      },
      "execution_count": null,
      "outputs": []
    },
    {
      "cell_type": "markdown",
      "source": [
        "**Filling null with mean method**"
      ],
      "metadata": {
        "id": "Lrh8ZSHgzStM"
      }
    },
    {
      "cell_type": "code",
      "source": [
        "ds=ds.fillna(ds.mean())"
      ],
      "metadata": {
        "colab": {
          "base_uri": "https://localhost:8080/"
        },
        "id": "V5_wUUXvvyVn",
        "outputId": "9dc7eab6-e74b-49a9-9782-fd100dcbc205"
      },
      "execution_count": null,
      "outputs": [
        {
          "output_type": "stream",
          "name": "stderr",
          "text": [
            "/usr/local/lib/python3.7/dist-packages/ipykernel_launcher.py:1: FutureWarning: Dropping of nuisance columns in DataFrame reductions (with 'numeric_only=None') is deprecated; in a future version this will raise TypeError.  Select only valid columns before calling the reduction.\n",
            "  \"\"\"Entry point for launching an IPython kernel.\n"
          ]
        }
      ]
    },
    {
      "cell_type": "markdown",
      "source": [
        "**Checking for null values**"
      ],
      "metadata": {
        "id": "_99OfkgSzgQF"
      }
    },
    {
      "cell_type": "code",
      "source": [
        "ds.isnull().sum()"
      ],
      "metadata": {
        "colab": {
          "base_uri": "https://localhost:8080/"
        },
        "id": "knNlKmbyv1zH",
        "outputId": "4f24d870-5239-4882-eb9b-00ae40c5a5db"
      },
      "execution_count": null,
      "outputs": [
        {
          "output_type": "execute_result",
          "data": {
            "text/plain": [
              "cpuName          0\n",
              "price            0\n",
              "cpuMark          0\n",
              "cpuValue         0\n",
              "threadMark       0\n",
              "threadValue      0\n",
              "TDP              0\n",
              "powerPerf      685\n",
              "cores            0\n",
              "testDate         0\n",
              "socket           0\n",
              "category         0\n",
              "dtype: int64"
            ]
          },
          "metadata": {},
          "execution_count": 9
        }
      ]
    },
    {
      "cell_type": "markdown",
      "source": [
        "**Dropping remaining rows with null values**"
      ],
      "metadata": {
        "id": "Oco_Qv58zlm-"
      }
    },
    {
      "cell_type": "code",
      "source": [
        "ds=ds.dropna()"
      ],
      "metadata": {
        "id": "jMMmUfeRv5SX"
      },
      "execution_count": null,
      "outputs": []
    },
    {
      "cell_type": "markdown",
      "source": [
        "**Checking Null values again**"
      ],
      "metadata": {
        "id": "mq4FDtHZzroM"
      }
    },
    {
      "cell_type": "code",
      "source": [
        "ds.isnull().sum()"
      ],
      "metadata": {
        "colab": {
          "base_uri": "https://localhost:8080/"
        },
        "id": "MLjVWq1Zv88s",
        "outputId": "4c910b51-6614-4cf3-d555-102c4cbf6f67"
      },
      "execution_count": null,
      "outputs": [
        {
          "output_type": "execute_result",
          "data": {
            "text/plain": [
              "cpuName        0\n",
              "price          0\n",
              "cpuMark        0\n",
              "cpuValue       0\n",
              "threadMark     0\n",
              "threadValue    0\n",
              "TDP            0\n",
              "powerPerf      0\n",
              "cores          0\n",
              "testDate       0\n",
              "socket         0\n",
              "category       0\n",
              "dtype: int64"
            ]
          },
          "metadata": {},
          "execution_count": 11
        }
      ]
    },
    {
      "cell_type": "markdown",
      "source": [
        "**Removing values with comma to float**"
      ],
      "metadata": {
        "id": "13J9vy7Mzu9r"
      }
    },
    {
      "cell_type": "code",
      "source": [
        "ds['cpuMark'] = ds['cpuMark'].str.replace(',', '').astype(float)"
      ],
      "metadata": {
        "id": "spUnyb3nwBR4"
      },
      "execution_count": null,
      "outputs": []
    },
    {
      "cell_type": "code",
      "source": [
        "ds['threadMark'] = ds['threadMark'].str.replace(',', '').astype(float)"
      ],
      "metadata": {
        "id": "igF6wcPUwFDg"
      },
      "execution_count": null,
      "outputs": []
    },
    {
      "cell_type": "markdown",
      "source": [
        "**Checking data**"
      ],
      "metadata": {
        "id": "O8t8pbSazy8o"
      }
    },
    {
      "cell_type": "code",
      "source": [
        "ds.head()"
      ],
      "metadata": {
        "colab": {
          "base_uri": "https://localhost:8080/",
          "height": 206
        },
        "id": "8yDpvTZzyLeV",
        "outputId": "0af8197b-5410-42d0-c422-69a427ad9706"
      },
      "execution_count": null,
      "outputs": [
        {
          "output_type": "execute_result",
          "data": {
            "text/plain": [
              "                             cpuName      price   cpuMark  cpuValue  \\\n",
              "0  AMD Ryzen Threadripper PRO 5995WX  -0.003119  108822.0 -0.006533   \n",
              "1                      AMD EPYC 7763   9.563875   88338.0 -0.831241   \n",
              "3                      AMD EPYC 7713   9.229110   85861.0 -0.829113   \n",
              "4  AMD Ryzen Threadripper PRO 3995WX   8.877564   83971.0 -0.823084   \n",
              "5       AMD Ryzen Threadripper 3990X  11.097861   81568.0 -0.915999   \n",
              "\n",
              "   threadMark  threadValue       TDP powerPerf      cores  testDate socket  \\\n",
              "0      3330.0    -0.001329  4.576987    388.65  10.032118      2022  sWRX8   \n",
              "1      2635.0    -1.052480  4.576987    315.49  10.032118      2021    SP3   \n",
              "3      2727.0    -1.050354  3.420250     381.6  10.032118      2021    SP3   \n",
              "4      2626.0    -1.050354  4.576987     299.9  10.032118      2020  sWRX8   \n",
              "5      2569.0    -1.056025  4.576987    291.31  10.032118      2020  sTRX4   \n",
              "\n",
              "  category  \n",
              "0  Desktop  \n",
              "1   Server  \n",
              "3   Server  \n",
              "4  Desktop  \n",
              "5  Desktop  "
            ],
            "text/html": [
              "\n",
              "  <div id=\"df-64d72d75-368d-475c-a4fb-bad5a15dfad9\">\n",
              "    <div class=\"colab-df-container\">\n",
              "      <div>\n",
              "<style scoped>\n",
              "    .dataframe tbody tr th:only-of-type {\n",
              "        vertical-align: middle;\n",
              "    }\n",
              "\n",
              "    .dataframe tbody tr th {\n",
              "        vertical-align: top;\n",
              "    }\n",
              "\n",
              "    .dataframe thead th {\n",
              "        text-align: right;\n",
              "    }\n",
              "</style>\n",
              "<table border=\"1\" class=\"dataframe\">\n",
              "  <thead>\n",
              "    <tr style=\"text-align: right;\">\n",
              "      <th></th>\n",
              "      <th>cpuName</th>\n",
              "      <th>price</th>\n",
              "      <th>cpuMark</th>\n",
              "      <th>cpuValue</th>\n",
              "      <th>threadMark</th>\n",
              "      <th>threadValue</th>\n",
              "      <th>TDP</th>\n",
              "      <th>powerPerf</th>\n",
              "      <th>cores</th>\n",
              "      <th>testDate</th>\n",
              "      <th>socket</th>\n",
              "      <th>category</th>\n",
              "    </tr>\n",
              "  </thead>\n",
              "  <tbody>\n",
              "    <tr>\n",
              "      <th>0</th>\n",
              "      <td>AMD Ryzen Threadripper PRO 5995WX</td>\n",
              "      <td>-0.003119</td>\n",
              "      <td>108822.0</td>\n",
              "      <td>-0.006533</td>\n",
              "      <td>3330.0</td>\n",
              "      <td>-0.001329</td>\n",
              "      <td>4.576987</td>\n",
              "      <td>388.65</td>\n",
              "      <td>10.032118</td>\n",
              "      <td>2022</td>\n",
              "      <td>sWRX8</td>\n",
              "      <td>Desktop</td>\n",
              "    </tr>\n",
              "    <tr>\n",
              "      <th>1</th>\n",
              "      <td>AMD EPYC 7763</td>\n",
              "      <td>9.563875</td>\n",
              "      <td>88338.0</td>\n",
              "      <td>-0.831241</td>\n",
              "      <td>2635.0</td>\n",
              "      <td>-1.052480</td>\n",
              "      <td>4.576987</td>\n",
              "      <td>315.49</td>\n",
              "      <td>10.032118</td>\n",
              "      <td>2021</td>\n",
              "      <td>SP3</td>\n",
              "      <td>Server</td>\n",
              "    </tr>\n",
              "    <tr>\n",
              "      <th>3</th>\n",
              "      <td>AMD EPYC 7713</td>\n",
              "      <td>9.229110</td>\n",
              "      <td>85861.0</td>\n",
              "      <td>-0.829113</td>\n",
              "      <td>2727.0</td>\n",
              "      <td>-1.050354</td>\n",
              "      <td>3.420250</td>\n",
              "      <td>381.6</td>\n",
              "      <td>10.032118</td>\n",
              "      <td>2021</td>\n",
              "      <td>SP3</td>\n",
              "      <td>Server</td>\n",
              "    </tr>\n",
              "    <tr>\n",
              "      <th>4</th>\n",
              "      <td>AMD Ryzen Threadripper PRO 3995WX</td>\n",
              "      <td>8.877564</td>\n",
              "      <td>83971.0</td>\n",
              "      <td>-0.823084</td>\n",
              "      <td>2626.0</td>\n",
              "      <td>-1.050354</td>\n",
              "      <td>4.576987</td>\n",
              "      <td>299.9</td>\n",
              "      <td>10.032118</td>\n",
              "      <td>2020</td>\n",
              "      <td>sWRX8</td>\n",
              "      <td>Desktop</td>\n",
              "    </tr>\n",
              "    <tr>\n",
              "      <th>5</th>\n",
              "      <td>AMD Ryzen Threadripper 3990X</td>\n",
              "      <td>11.097861</td>\n",
              "      <td>81568.0</td>\n",
              "      <td>-0.915999</td>\n",
              "      <td>2569.0</td>\n",
              "      <td>-1.056025</td>\n",
              "      <td>4.576987</td>\n",
              "      <td>291.31</td>\n",
              "      <td>10.032118</td>\n",
              "      <td>2020</td>\n",
              "      <td>sTRX4</td>\n",
              "      <td>Desktop</td>\n",
              "    </tr>\n",
              "  </tbody>\n",
              "</table>\n",
              "</div>\n",
              "      <button class=\"colab-df-convert\" onclick=\"convertToInteractive('df-64d72d75-368d-475c-a4fb-bad5a15dfad9')\"\n",
              "              title=\"Convert this dataframe to an interactive table.\"\n",
              "              style=\"display:none;\">\n",
              "        \n",
              "  <svg xmlns=\"http://www.w3.org/2000/svg\" height=\"24px\"viewBox=\"0 0 24 24\"\n",
              "       width=\"24px\">\n",
              "    <path d=\"M0 0h24v24H0V0z\" fill=\"none\"/>\n",
              "    <path d=\"M18.56 5.44l.94 2.06.94-2.06 2.06-.94-2.06-.94-.94-2.06-.94 2.06-2.06.94zm-11 1L8.5 8.5l.94-2.06 2.06-.94-2.06-.94L8.5 2.5l-.94 2.06-2.06.94zm10 10l.94 2.06.94-2.06 2.06-.94-2.06-.94-.94-2.06-.94 2.06-2.06.94z\"/><path d=\"M17.41 7.96l-1.37-1.37c-.4-.4-.92-.59-1.43-.59-.52 0-1.04.2-1.43.59L10.3 9.45l-7.72 7.72c-.78.78-.78 2.05 0 2.83L4 21.41c.39.39.9.59 1.41.59.51 0 1.02-.2 1.41-.59l7.78-7.78 2.81-2.81c.8-.78.8-2.07 0-2.86zM5.41 20L4 18.59l7.72-7.72 1.47 1.35L5.41 20z\"/>\n",
              "  </svg>\n",
              "      </button>\n",
              "      \n",
              "  <style>\n",
              "    .colab-df-container {\n",
              "      display:flex;\n",
              "      flex-wrap:wrap;\n",
              "      gap: 12px;\n",
              "    }\n",
              "\n",
              "    .colab-df-convert {\n",
              "      background-color: #E8F0FE;\n",
              "      border: none;\n",
              "      border-radius: 50%;\n",
              "      cursor: pointer;\n",
              "      display: none;\n",
              "      fill: #1967D2;\n",
              "      height: 32px;\n",
              "      padding: 0 0 0 0;\n",
              "      width: 32px;\n",
              "    }\n",
              "\n",
              "    .colab-df-convert:hover {\n",
              "      background-color: #E2EBFA;\n",
              "      box-shadow: 0px 1px 2px rgba(60, 64, 67, 0.3), 0px 1px 3px 1px rgba(60, 64, 67, 0.15);\n",
              "      fill: #174EA6;\n",
              "    }\n",
              "\n",
              "    [theme=dark] .colab-df-convert {\n",
              "      background-color: #3B4455;\n",
              "      fill: #D2E3FC;\n",
              "    }\n",
              "\n",
              "    [theme=dark] .colab-df-convert:hover {\n",
              "      background-color: #434B5C;\n",
              "      box-shadow: 0px 1px 3px 1px rgba(0, 0, 0, 0.15);\n",
              "      filter: drop-shadow(0px 1px 2px rgba(0, 0, 0, 0.3));\n",
              "      fill: #FFFFFF;\n",
              "    }\n",
              "  </style>\n",
              "\n",
              "      <script>\n",
              "        const buttonEl =\n",
              "          document.querySelector('#df-64d72d75-368d-475c-a4fb-bad5a15dfad9 button.colab-df-convert');\n",
              "        buttonEl.style.display =\n",
              "          google.colab.kernel.accessAllowed ? 'block' : 'none';\n",
              "\n",
              "        async function convertToInteractive(key) {\n",
              "          const element = document.querySelector('#df-64d72d75-368d-475c-a4fb-bad5a15dfad9');\n",
              "          const dataTable =\n",
              "            await google.colab.kernel.invokeFunction('convertToInteractive',\n",
              "                                                     [key], {});\n",
              "          if (!dataTable) return;\n",
              "\n",
              "          const docLinkHtml = 'Like what you see? Visit the ' +\n",
              "            '<a target=\"_blank\" href=https://colab.research.google.com/notebooks/data_table.ipynb>data table notebook</a>'\n",
              "            + ' to learn more about interactive tables.';\n",
              "          element.innerHTML = '';\n",
              "          dataTable['output_type'] = 'display_data';\n",
              "          await google.colab.output.renderOutput(dataTable, element);\n",
              "          const docLink = document.createElement('div');\n",
              "          docLink.innerHTML = docLinkHtml;\n",
              "          element.appendChild(docLink);\n",
              "        }\n",
              "      </script>\n",
              "    </div>\n",
              "  </div>\n",
              "  "
            ]
          },
          "metadata": {},
          "execution_count": 30
        }
      ]
    },
    {
      "cell_type": "markdown",
      "source": [
        "**Selecting price,cpuMark,TDP and cores**"
      ],
      "metadata": {
        "id": "JmtDqGUFz2Va"
      }
    },
    {
      "cell_type": "code",
      "source": [
        "ds.iloc[:, [1,2,6,8]]"
      ],
      "metadata": {
        "colab": {
          "base_uri": "https://localhost:8080/",
          "height": 424
        },
        "id": "G6vC5kCSyUtC",
        "outputId": "a229ecbe-daa6-42df-ab91-0f6a15b26824"
      },
      "execution_count": null,
      "outputs": [
        {
          "output_type": "execute_result",
          "data": {
            "text/plain": [
              "          price   cpuMark       TDP      cores\n",
              "0     -0.003119  108822.0  4.576987  10.032118\n",
              "1      9.563875   88338.0  4.576987  10.032118\n",
              "3      9.229110   85861.0  3.420250  10.032118\n",
              "4      8.877564   83971.0  4.576987  10.032118\n",
              "5     11.097861   81568.0  4.576987  10.032118\n",
              "...         ...       ...       ...        ...\n",
              "3820  -0.003119      84.0 -0.512657  -0.649182\n",
              "3821  -0.003119      83.0 -0.161429  -0.649182\n",
              "3822  -0.003119      81.0 -0.096231  -0.649182\n",
              "3823  -0.003119      80.0 -1.206699  -0.649182\n",
              "3824  -0.003119      77.0 -0.226627  -0.649182\n",
              "\n",
              "[3140 rows x 4 columns]"
            ],
            "text/html": [
              "\n",
              "  <div id=\"df-a7fe10e5-1551-4347-b891-3e6f9f3c3dca\">\n",
              "    <div class=\"colab-df-container\">\n",
              "      <div>\n",
              "<style scoped>\n",
              "    .dataframe tbody tr th:only-of-type {\n",
              "        vertical-align: middle;\n",
              "    }\n",
              "\n",
              "    .dataframe tbody tr th {\n",
              "        vertical-align: top;\n",
              "    }\n",
              "\n",
              "    .dataframe thead th {\n",
              "        text-align: right;\n",
              "    }\n",
              "</style>\n",
              "<table border=\"1\" class=\"dataframe\">\n",
              "  <thead>\n",
              "    <tr style=\"text-align: right;\">\n",
              "      <th></th>\n",
              "      <th>price</th>\n",
              "      <th>cpuMark</th>\n",
              "      <th>TDP</th>\n",
              "      <th>cores</th>\n",
              "    </tr>\n",
              "  </thead>\n",
              "  <tbody>\n",
              "    <tr>\n",
              "      <th>0</th>\n",
              "      <td>-0.003119</td>\n",
              "      <td>108822.0</td>\n",
              "      <td>4.576987</td>\n",
              "      <td>10.032118</td>\n",
              "    </tr>\n",
              "    <tr>\n",
              "      <th>1</th>\n",
              "      <td>9.563875</td>\n",
              "      <td>88338.0</td>\n",
              "      <td>4.576987</td>\n",
              "      <td>10.032118</td>\n",
              "    </tr>\n",
              "    <tr>\n",
              "      <th>3</th>\n",
              "      <td>9.229110</td>\n",
              "      <td>85861.0</td>\n",
              "      <td>3.420250</td>\n",
              "      <td>10.032118</td>\n",
              "    </tr>\n",
              "    <tr>\n",
              "      <th>4</th>\n",
              "      <td>8.877564</td>\n",
              "      <td>83971.0</td>\n",
              "      <td>4.576987</td>\n",
              "      <td>10.032118</td>\n",
              "    </tr>\n",
              "    <tr>\n",
              "      <th>5</th>\n",
              "      <td>11.097861</td>\n",
              "      <td>81568.0</td>\n",
              "      <td>4.576987</td>\n",
              "      <td>10.032118</td>\n",
              "    </tr>\n",
              "    <tr>\n",
              "      <th>...</th>\n",
              "      <td>...</td>\n",
              "      <td>...</td>\n",
              "      <td>...</td>\n",
              "      <td>...</td>\n",
              "    </tr>\n",
              "    <tr>\n",
              "      <th>3820</th>\n",
              "      <td>-0.003119</td>\n",
              "      <td>84.0</td>\n",
              "      <td>-0.512657</td>\n",
              "      <td>-0.649182</td>\n",
              "    </tr>\n",
              "    <tr>\n",
              "      <th>3821</th>\n",
              "      <td>-0.003119</td>\n",
              "      <td>83.0</td>\n",
              "      <td>-0.161429</td>\n",
              "      <td>-0.649182</td>\n",
              "    </tr>\n",
              "    <tr>\n",
              "      <th>3822</th>\n",
              "      <td>-0.003119</td>\n",
              "      <td>81.0</td>\n",
              "      <td>-0.096231</td>\n",
              "      <td>-0.649182</td>\n",
              "    </tr>\n",
              "    <tr>\n",
              "      <th>3823</th>\n",
              "      <td>-0.003119</td>\n",
              "      <td>80.0</td>\n",
              "      <td>-1.206699</td>\n",
              "      <td>-0.649182</td>\n",
              "    </tr>\n",
              "    <tr>\n",
              "      <th>3824</th>\n",
              "      <td>-0.003119</td>\n",
              "      <td>77.0</td>\n",
              "      <td>-0.226627</td>\n",
              "      <td>-0.649182</td>\n",
              "    </tr>\n",
              "  </tbody>\n",
              "</table>\n",
              "<p>3140 rows × 4 columns</p>\n",
              "</div>\n",
              "      <button class=\"colab-df-convert\" onclick=\"convertToInteractive('df-a7fe10e5-1551-4347-b891-3e6f9f3c3dca')\"\n",
              "              title=\"Convert this dataframe to an interactive table.\"\n",
              "              style=\"display:none;\">\n",
              "        \n",
              "  <svg xmlns=\"http://www.w3.org/2000/svg\" height=\"24px\"viewBox=\"0 0 24 24\"\n",
              "       width=\"24px\">\n",
              "    <path d=\"M0 0h24v24H0V0z\" fill=\"none\"/>\n",
              "    <path d=\"M18.56 5.44l.94 2.06.94-2.06 2.06-.94-2.06-.94-.94-2.06-.94 2.06-2.06.94zm-11 1L8.5 8.5l.94-2.06 2.06-.94-2.06-.94L8.5 2.5l-.94 2.06-2.06.94zm10 10l.94 2.06.94-2.06 2.06-.94-2.06-.94-.94-2.06-.94 2.06-2.06.94z\"/><path d=\"M17.41 7.96l-1.37-1.37c-.4-.4-.92-.59-1.43-.59-.52 0-1.04.2-1.43.59L10.3 9.45l-7.72 7.72c-.78.78-.78 2.05 0 2.83L4 21.41c.39.39.9.59 1.41.59.51 0 1.02-.2 1.41-.59l7.78-7.78 2.81-2.81c.8-.78.8-2.07 0-2.86zM5.41 20L4 18.59l7.72-7.72 1.47 1.35L5.41 20z\"/>\n",
              "  </svg>\n",
              "      </button>\n",
              "      \n",
              "  <style>\n",
              "    .colab-df-container {\n",
              "      display:flex;\n",
              "      flex-wrap:wrap;\n",
              "      gap: 12px;\n",
              "    }\n",
              "\n",
              "    .colab-df-convert {\n",
              "      background-color: #E8F0FE;\n",
              "      border: none;\n",
              "      border-radius: 50%;\n",
              "      cursor: pointer;\n",
              "      display: none;\n",
              "      fill: #1967D2;\n",
              "      height: 32px;\n",
              "      padding: 0 0 0 0;\n",
              "      width: 32px;\n",
              "    }\n",
              "\n",
              "    .colab-df-convert:hover {\n",
              "      background-color: #E2EBFA;\n",
              "      box-shadow: 0px 1px 2px rgba(60, 64, 67, 0.3), 0px 1px 3px 1px rgba(60, 64, 67, 0.15);\n",
              "      fill: #174EA6;\n",
              "    }\n",
              "\n",
              "    [theme=dark] .colab-df-convert {\n",
              "      background-color: #3B4455;\n",
              "      fill: #D2E3FC;\n",
              "    }\n",
              "\n",
              "    [theme=dark] .colab-df-convert:hover {\n",
              "      background-color: #434B5C;\n",
              "      box-shadow: 0px 1px 3px 1px rgba(0, 0, 0, 0.15);\n",
              "      filter: drop-shadow(0px 1px 2px rgba(0, 0, 0, 0.3));\n",
              "      fill: #FFFFFF;\n",
              "    }\n",
              "  </style>\n",
              "\n",
              "      <script>\n",
              "        const buttonEl =\n",
              "          document.querySelector('#df-a7fe10e5-1551-4347-b891-3e6f9f3c3dca button.colab-df-convert');\n",
              "        buttonEl.style.display =\n",
              "          google.colab.kernel.accessAllowed ? 'block' : 'none';\n",
              "\n",
              "        async function convertToInteractive(key) {\n",
              "          const element = document.querySelector('#df-a7fe10e5-1551-4347-b891-3e6f9f3c3dca');\n",
              "          const dataTable =\n",
              "            await google.colab.kernel.invokeFunction('convertToInteractive',\n",
              "                                                     [key], {});\n",
              "          if (!dataTable) return;\n",
              "\n",
              "          const docLinkHtml = 'Like what you see? Visit the ' +\n",
              "            '<a target=\"_blank\" href=https://colab.research.google.com/notebooks/data_table.ipynb>data table notebook</a>'\n",
              "            + ' to learn more about interactive tables.';\n",
              "          element.innerHTML = '';\n",
              "          dataTable['output_type'] = 'display_data';\n",
              "          await google.colab.output.renderOutput(dataTable, element);\n",
              "          const docLink = document.createElement('div');\n",
              "          docLink.innerHTML = docLinkHtml;\n",
              "          element.appendChild(docLink);\n",
              "        }\n",
              "      </script>\n",
              "    </div>\n",
              "  </div>\n",
              "  "
            ]
          },
          "metadata": {},
          "execution_count": 35
        }
      ]
    },
    {
      "cell_type": "markdown",
      "source": [
        "# **Performing KNN**"
      ],
      "metadata": {
        "id": "LVZBhqlsz9L_"
      }
    },
    {
      "cell_type": "code",
      "execution_count": null,
      "metadata": {
        "id": "QvvaK2lkuxo-"
      },
      "outputs": [],
      "source": [
        "from sklearn.preprocessing import StandardScaler \n",
        "sc = StandardScaler() \n",
        "cols = ['cores','price','cpuValue','threadValue','TDP','threadValue'] \n",
        "ds[cols] = sc.fit_transform(ds[cols]) \n",
        "X = ds.iloc[:, [1,2,6,8]].values\n",
        "y = ds.iloc[:, -1].values\n",
        "from sklearn.preprocessing import LabelEncoder\n",
        "le = LabelEncoder()\n",
        "X[:,0] = le.fit_transform(X[:,0])\n",
        "\n",
        "from sklearn.model_selection import train_test_split\n",
        "X_train, X_test, y_train, y_test = train_test_split(X, y, test_size = 0.20, random_state = 0)\n",
        "\n",
        "from sklearn.preprocessing import StandardScaler\n",
        "sc = StandardScaler()\n",
        "X_train = sc.fit_transform(X_train)\n",
        "X_test = sc.transform(X_test)\n",
        "\n",
        "from sklearn.neighbors import KNeighborsClassifier\n",
        "classifier = KNeighborsClassifier(n_neighbors = 4, metric = 'euclidean', p = 1)\n",
        "classifier.fit(X_train, y_train)\n",
        "\n",
        "y_pred = classifier.predict(X_test)\n",
        "\n",
        "from sklearn.metrics import confusion_matrix,accuracy_score\n",
        "cm = confusion_matrix(y_test, y_pred)\n",
        "ac = accuracy_score(y_test,y_pred)\n"
      ]
    },
    {
      "cell_type": "markdown",
      "source": [
        "**Confusion Matrix**"
      ],
      "metadata": {
        "id": "Dw9NbZmo0AM0"
      }
    },
    {
      "cell_type": "code",
      "source": [
        "cm"
      ],
      "metadata": {
        "colab": {
          "base_uri": "https://localhost:8080/"
        },
        "id": "xCL6uE8OvXSj",
        "outputId": "97a38ef8-3b80-4e60-ef88-7214c2bc909d"
      },
      "execution_count": null,
      "outputs": [
        {
          "output_type": "execute_result",
          "data": {
            "text/plain": [
              "array([[197,   0,   0,   0,  16,   0,   0,   0,  14,   0,   1],\n",
              "       [  1,   0,   0,   0,   1,   0,   0,   0,   0,   0,   0],\n",
              "       [  1,   0,   0,   0,   1,   0,   0,   0,   0,   0,   0],\n",
              "       [  1,   0,   0,   0,   0,   0,   0,   0,   0,   0,   0],\n",
              "       [ 24,   0,   0,   0, 169,   0,   0,   0,   2,   0,   2],\n",
              "       [  0,   0,   0,   0,   6,   0,   0,   1,   0,   0,   0],\n",
              "       [  1,   0,   0,   0,   0,   0,   0,   0,   0,   0,   0],\n",
              "       [  0,   0,   0,   0,   3,   0,   0,   0,   1,   0,   0],\n",
              "       [ 45,   0,   0,   0,  14,   0,   0,   0, 107,   0,   3],\n",
              "       [  0,   0,   0,   0,   2,   0,   0,   0,   0,   0,   0],\n",
              "       [  5,   0,   0,   0,   5,   0,   0,   0,   2,   0,   3]])"
            ]
          },
          "metadata": {},
          "execution_count": 38
        }
      ]
    },
    {
      "cell_type": "markdown",
      "source": [
        "**Accuracy Measurement**"
      ],
      "metadata": {
        "id": "qEAI9c9I0EXu"
      }
    },
    {
      "cell_type": "code",
      "source": [
        "ac"
      ],
      "metadata": {
        "colab": {
          "base_uri": "https://localhost:8080/"
        },
        "id": "_lWIHJ2JvY8C",
        "outputId": "f6860674-7153-4c3c-fe9a-34c23a157e3c"
      },
      "execution_count": null,
      "outputs": [
        {
          "output_type": "execute_result",
          "data": {
            "text/plain": [
              "0.7579617834394905"
            ]
          },
          "metadata": {},
          "execution_count": 39
        }
      ]
    },
    {
      "cell_type": "markdown",
      "source": [
        "**PLotting Confusion Matrix**"
      ],
      "metadata": {
        "id": "dN7NohRQ0IJ_"
      }
    },
    {
      "cell_type": "code",
      "source": [
        "import matplotlib.pyplot as plt\n",
        "from sklearn.datasets import make_classification\n",
        "from sklearn.metrics import plot_confusion_matrix\n",
        "from sklearn.model_selection import train_test_split\n",
        "from sklearn.svm import SVC\n",
        "\n",
        "X, y = make_classification(random_state=0)\n",
        "X_train, X_test, y_train, y_test = train_test_split(X, y, random_state=0)\n",
        "clf = SVC(random_state=0)\n",
        "clf.fit(X_train, y_train)\n",
        "SVC(random_state=0)\n",
        "plot_confusion_matrix(clf, X_test, y_test)  \n",
        "plt.show()"
      ],
      "metadata": {
        "colab": {
          "base_uri": "https://localhost:8080/",
          "height": 338
        },
        "id": "mJtnnFSKwK3x",
        "outputId": "8ed03744-62d6-4650-d94d-987d7537466f"
      },
      "execution_count": null,
      "outputs": [
        {
          "output_type": "stream",
          "name": "stderr",
          "text": [
            "/usr/local/lib/python3.7/dist-packages/sklearn/utils/deprecation.py:87: FutureWarning: Function plot_confusion_matrix is deprecated; Function `plot_confusion_matrix` is deprecated in 1.0 and will be removed in 1.2. Use one of the class methods: ConfusionMatrixDisplay.from_predictions or ConfusionMatrixDisplay.from_estimator.\n",
            "  warnings.warn(msg, category=FutureWarning)\n"
          ]
        },
        {
          "output_type": "display_data",
          "data": {
            "text/plain": [
              "<Figure size 432x288 with 2 Axes>"
            ],
            "image/png": "[encoded data removed]"
          },
          "metadata": {
            "needs_background": "light"
          }
        }
      ]
    },
    {
      "cell_type": "markdown",
      "source": [
        "## **Setting Bayes**"
      ],
      "metadata": {
        "id": "f0cVltyq0Mo7"
      }
    },
    {
      "cell_type": "code",
      "source": [
        "import numpy as np\n",
        "import pandas as pd\n",
        "from sklearn.naive_bayes import GaussianNB\n",
        "from sklearn.preprocessing import LabelEncoder\n",
        "from sklearn.model_selection import train_test_split\n",
        "from sklearn.metrics import accuracy_score"
      ],
      "metadata": {
        "id": "GvQvYW4owYbW"
      },
      "execution_count": null,
      "outputs": []
    },
    {
      "cell_type": "markdown",
      "source": [
        "**Setting [\"price\", \"TDP\", \"cores\", \"cpuMark\"] as features and category as target**"
      ],
      "metadata": {
        "id": "4FKvs4ru0Qu3"
      }
    },
    {
      "cell_type": "code",
      "source": [
        "features = [\"price\", \"TDP\", \"cores\", \"cpuMark\"]\n",
        "target = \"category\""
      ],
      "metadata": {
        "id": "tPrwEzgwwbkH"
      },
      "execution_count": null,
      "outputs": []
    },
    {
      "cell_type": "markdown",
      "source": [
        ""
      ],
      "metadata": {
        "id": "vPYAzVZ5zC77"
      }
    },
    {
      "cell_type": "code",
      "source": [
        "features_train, features_test, target_train, target_test = train_test_split(ds[features],\n",
        "ds[target],\n",
        "test_size = 0.33,\n",
        "random_state = 54)"
      ],
      "metadata": {
        "id": "YQVjRhlOxrgP"
      },
      "execution_count": null,
      "outputs": []
    },
    {
      "cell_type": "code",
      "source": [
        "model = GaussianNB()\n",
        "model.fit(features_train, target_train)"
      ],
      "metadata": {
        "colab": {
          "base_uri": "https://localhost:8080/"
        },
        "id": "xuI-UOG-x53X",
        "outputId": "adc34720-3d24-466d-926f-ff34a764fabc"
      },
      "execution_count": null,
      "outputs": [
        {
          "output_type": "execute_result",
          "data": {
            "text/plain": [
              "GaussianNB()"
            ]
          },
          "metadata": {},
          "execution_count": 26
        }
      ]
    },
    {
      "cell_type": "code",
      "source": [
        "pred = model.predict(features_test)\n",
        "accuracy = accuracy_score(target_test, pred)"
      ],
      "metadata": {
        "id": "VrXyUQrax-jN"
      },
      "execution_count": null,
      "outputs": []
    },
    {
      "cell_type": "code",
      "source": [
        "pred"
      ],
      "metadata": {
        "colab": {
          "base_uri": "https://localhost:8080/"
        },
        "id": "EHR9rdCJyCEs",
        "outputId": "242756d3-5bf9-4a14-affb-8eca4d53bf02"
      },
      "execution_count": null,
      "outputs": [
        {
          "output_type": "execute_result",
          "data": {
            "text/plain": [
              "array(['Laptop', 'Laptop', 'Laptop', ..., 'Laptop', 'Unknown', 'Desktop'],\n",
              "      dtype='<U32')"
            ]
          },
          "metadata": {},
          "execution_count": 28
        }
      ]
    },
    {
      "cell_type": "markdown",
      "source": [
        "**Accuarcy Measurement**"
      ],
      "metadata": {
        "id": "5zvdiHzZ0Zg5"
      }
    },
    {
      "cell_type": "code",
      "source": [
        "accuracy"
      ],
      "metadata": {
        "colab": {
          "base_uri": "https://localhost:8080/"
        },
        "id": "mcQTHuyzyEWf",
        "outputId": "7a9a2198-ba75-4c48-c3ad-c975ee2422ba"
      },
      "execution_count": null,
      "outputs": [
        {
          "output_type": "execute_result",
          "data": {
            "text/plain": [
              "0.5178399228543876"
            ]
          },
          "metadata": {},
          "execution_count": 29
        }
      ]
    },
    {
      "cell_type": "markdown",
      "source": [
        "## **Inference**"
      ],
      "metadata": {
        "id": "0FgC7WLW0dNn"
      }
    },
    {
      "cell_type": "markdown",
      "source": [
        "KNN achieved an accuracy score of:\n",
        "0.7579617834394905\n",
        "\n",
        "and Bayes achived an accuarcy score of:\n",
        "0.5178399228543876"
      ],
      "metadata": {
        "id": "jqNF5qcR0hBV"
      }
    }
  ]
}