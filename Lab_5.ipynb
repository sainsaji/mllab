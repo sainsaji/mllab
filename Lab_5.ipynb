{
  "nbformat": 4,
  "nbformat_minor": 0,
  "metadata": {
    "colab": {
      "name": "Lab 5.ipynb",
      "provenance": []
    },
    "kernelspec": {
      "name": "python3",
      "display_name": "Python 3"
    },
    "language_info": {
      "name": "python"
    }
  },
  "cells": [
    {
      "cell_type": "code",
      "execution_count": null,
      "metadata": {
        "id": "FBpXwuwqSf07"
      },
      "outputs": [],
      "source": [
        "import pandas as pd\n",
        "import numpy as np\n",
        "import matplotlib.pyplot as plt\n",
        "import seaborn as sns"
      ]
    },
    {
      "cell_type": "markdown",
      "source": [
        "## Reading dataset"
      ],
      "metadata": {
        "id": "x01wyezhjhpA"
      }
    },
    {
      "cell_type": "code",
      "source": [
        "df = pd.read_csv('/content/CPU_benchmark.csv')\n",
        "df.head()"
      ],
      "metadata": {
        "colab": {
          "base_uri": "https://localhost:8080/",
          "height": 206
        },
        "id": "bd9erZgqSlOp",
        "outputId": "21210121-5c09-4ac3-c4dc-4ff3a3c893e7"
      },
      "execution_count": null,
      "outputs": [
        {
          "output_type": "execute_result",
          "data": {
            "text/plain": [
              "                             cpuName    price  cpuMark  cpuValue threadMark  \\\n",
              "0  AMD Ryzen Threadripper PRO 5995WX      NaN  108,822       NaN      3,330   \n",
              "1                      AMD EPYC 7763  7299.99   88,338     12.10      2,635   \n",
              "2                      AMD EPYC 7J13      NaN   86,006       NaN      2,387   \n",
              "3                      AMD EPYC 7713  7060.00   85,861     12.16      2,727   \n",
              "4  AMD Ryzen Threadripper PRO 3995WX  6807.98   83,971     12.33      2,626   \n",
              "\n",
              "   threadValue    TDP powerPerf  cores  testDate   socket category  \n",
              "0          NaN  280.0    388.65     64      2022    sWRX8  Desktop  \n",
              "1         0.36  280.0    315.49     64      2021      SP3   Server  \n",
              "2          NaN    NaN       NaN     64      2021  unknown   Server  \n",
              "3         0.39  225.0     381.6     64      2021      SP3   Server  \n",
              "4         0.39  280.0     299.9     64      2020    sWRX8  Desktop  "
            ],
            "text/html": [
              "\n",
              "  <div id=\"df-8b462daa-ffae-4445-bd93-84269cab4d6a\">\n",
              "    <div class=\"colab-df-container\">\n",
              "      <div>\n",
              "<style scoped>\n",
              "    .dataframe tbody tr th:only-of-type {\n",
              "        vertical-align: middle;\n",
              "    }\n",
              "\n",
              "    .dataframe tbody tr th {\n",
              "        vertical-align: top;\n",
              "    }\n",
              "\n",
              "    .dataframe thead th {\n",
              "        text-align: right;\n",
              "    }\n",
              "</style>\n",
              "<table border=\"1\" class=\"dataframe\">\n",
              "  <thead>\n",
              "    <tr style=\"text-align: right;\">\n",
              "      <th></th>\n",
              "      <th>cpuName</th>\n",
              "      <th>price</th>\n",
              "      <th>cpuMark</th>\n",
              "      <th>cpuValue</th>\n",
              "      <th>threadMark</th>\n",
              "      <th>threadValue</th>\n",
              "      <th>TDP</th>\n",
              "      <th>powerPerf</th>\n",
              "      <th>cores</th>\n",
              "      <th>testDate</th>\n",
              "      <th>socket</th>\n",
              "      <th>category</th>\n",
              "    </tr>\n",
              "  </thead>\n",
              "  <tbody>\n",
              "    <tr>\n",
              "      <th>0</th>\n",
              "      <td>AMD Ryzen Threadripper PRO 5995WX</td>\n",
              "      <td>NaN</td>\n",
              "      <td>108,822</td>\n",
              "      <td>NaN</td>\n",
              "      <td>3,330</td>\n",
              "      <td>NaN</td>\n",
              "      <td>280.0</td>\n",
              "      <td>388.65</td>\n",
              "      <td>64</td>\n",
              "      <td>2022</td>\n",
              "      <td>sWRX8</td>\n",
              "      <td>Desktop</td>\n",
              "    </tr>\n",
              "    <tr>\n",
              "      <th>1</th>\n",
              "      <td>AMD EPYC 7763</td>\n",
              "      <td>7299.99</td>\n",
              "      <td>88,338</td>\n",
              "      <td>12.10</td>\n",
              "      <td>2,635</td>\n",
              "      <td>0.36</td>\n",
              "      <td>280.0</td>\n",
              "      <td>315.49</td>\n",
              "      <td>64</td>\n",
              "      <td>2021</td>\n",
              "      <td>SP3</td>\n",
              "      <td>Server</td>\n",
              "    </tr>\n",
              "    <tr>\n",
              "      <th>2</th>\n",
              "      <td>AMD EPYC 7J13</td>\n",
              "      <td>NaN</td>\n",
              "      <td>86,006</td>\n",
              "      <td>NaN</td>\n",
              "      <td>2,387</td>\n",
              "      <td>NaN</td>\n",
              "      <td>NaN</td>\n",
              "      <td>NaN</td>\n",
              "      <td>64</td>\n",
              "      <td>2021</td>\n",
              "      <td>unknown</td>\n",
              "      <td>Server</td>\n",
              "    </tr>\n",
              "    <tr>\n",
              "      <th>3</th>\n",
              "      <td>AMD EPYC 7713</td>\n",
              "      <td>7060.00</td>\n",
              "      <td>85,861</td>\n",
              "      <td>12.16</td>\n",
              "      <td>2,727</td>\n",
              "      <td>0.39</td>\n",
              "      <td>225.0</td>\n",
              "      <td>381.6</td>\n",
              "      <td>64</td>\n",
              "      <td>2021</td>\n",
              "      <td>SP3</td>\n",
              "      <td>Server</td>\n",
              "    </tr>\n",
              "    <tr>\n",
              "      <th>4</th>\n",
              "      <td>AMD Ryzen Threadripper PRO 3995WX</td>\n",
              "      <td>6807.98</td>\n",
              "      <td>83,971</td>\n",
              "      <td>12.33</td>\n",
              "      <td>2,626</td>\n",
              "      <td>0.39</td>\n",
              "      <td>280.0</td>\n",
              "      <td>299.9</td>\n",
              "      <td>64</td>\n",
              "      <td>2020</td>\n",
              "      <td>sWRX8</td>\n",
              "      <td>Desktop</td>\n",
              "    </tr>\n",
              "  </tbody>\n",
              "</table>\n",
              "</div>\n",
              "      <button class=\"colab-df-convert\" onclick=\"convertToInteractive('df-8b462daa-ffae-4445-bd93-84269cab4d6a')\"\n",
              "              title=\"Convert this dataframe to an interactive table.\"\n",
              "              style=\"display:none;\">\n",
              "        \n",
              "  <svg xmlns=\"http://www.w3.org/2000/svg\" height=\"24px\"viewBox=\"0 0 24 24\"\n",
              "       width=\"24px\">\n",
              "    <path d=\"M0 0h24v24H0V0z\" fill=\"none\"/>\n",
              "    <path d=\"M18.56 5.44l.94 2.06.94-2.06 2.06-.94-2.06-.94-.94-2.06-.94 2.06-2.06.94zm-11 1L8.5 8.5l.94-2.06 2.06-.94-2.06-.94L8.5 2.5l-.94 2.06-2.06.94zm10 10l.94 2.06.94-2.06 2.06-.94-2.06-.94-.94-2.06-.94 2.06-2.06.94z\"/><path d=\"M17.41 7.96l-1.37-1.37c-.4-.4-.92-.59-1.43-.59-.52 0-1.04.2-1.43.59L10.3 9.45l-7.72 7.72c-.78.78-.78 2.05 0 2.83L4 21.41c.39.39.9.59 1.41.59.51 0 1.02-.2 1.41-.59l7.78-7.78 2.81-2.81c.8-.78.8-2.07 0-2.86zM5.41 20L4 18.59l7.72-7.72 1.47 1.35L5.41 20z\"/>\n",
              "  </svg>\n",
              "      </button>\n",
              "      \n",
              "  <style>\n",
              "    .colab-df-container {\n",
              "      display:flex;\n",
              "      flex-wrap:wrap;\n",
              "      gap: 12px;\n",
              "    }\n",
              "\n",
              "    .colab-df-convert {\n",
              "      background-color: #E8F0FE;\n",
              "      border: none;\n",
              "      border-radius: 50%;\n",
              "      cursor: pointer;\n",
              "      display: none;\n",
              "      fill: #1967D2;\n",
              "      height: 32px;\n",
              "      padding: 0 0 0 0;\n",
              "      width: 32px;\n",
              "    }\n",
              "\n",
              "    .colab-df-convert:hover {\n",
              "      background-color: #E2EBFA;\n",
              "      box-shadow: 0px 1px 2px rgba(60, 64, 67, 0.3), 0px 1px 3px 1px rgba(60, 64, 67, 0.15);\n",
              "      fill: #174EA6;\n",
              "    }\n",
              "\n",
              "    [theme=dark] .colab-df-convert {\n",
              "      background-color: #3B4455;\n",
              "      fill: #D2E3FC;\n",
              "    }\n",
              "\n",
              "    [theme=dark] .colab-df-convert:hover {\n",
              "      background-color: #434B5C;\n",
              "      box-shadow: 0px 1px 3px 1px rgba(0, 0, 0, 0.15);\n",
              "      filter: drop-shadow(0px 1px 2px rgba(0, 0, 0, 0.3));\n",
              "      fill: #FFFFFF;\n",
              "    }\n",
              "  </style>\n",
              "\n",
              "      <script>\n",
              "        const buttonEl =\n",
              "          document.querySelector('#df-8b462daa-ffae-4445-bd93-84269cab4d6a button.colab-df-convert');\n",
              "        buttonEl.style.display =\n",
              "          google.colab.kernel.accessAllowed ? 'block' : 'none';\n",
              "\n",
              "        async function convertToInteractive(key) {\n",
              "          const element = document.querySelector('#df-8b462daa-ffae-4445-bd93-84269cab4d6a');\n",
              "          const dataTable =\n",
              "            await google.colab.kernel.invokeFunction('convertToInteractive',\n",
              "                                                     [key], {});\n",
              "          if (!dataTable) return;\n",
              "\n",
              "          const docLinkHtml = 'Like what you see? Visit the ' +\n",
              "            '<a target=\"_blank\" href=https://colab.research.google.com/notebooks/data_table.ipynb>data table notebook</a>'\n",
              "            + ' to learn more about interactive tables.';\n",
              "          element.innerHTML = '';\n",
              "          dataTable['output_type'] = 'display_data';\n",
              "          await google.colab.output.renderOutput(dataTable, element);\n",
              "          const docLink = document.createElement('div');\n",
              "          docLink.innerHTML = docLinkHtml;\n",
              "          element.appendChild(docLink);\n",
              "        }\n",
              "      </script>\n",
              "    </div>\n",
              "  </div>\n",
              "  "
            ]
          },
          "metadata": {},
          "execution_count": 5
        }
      ]
    },
    {
      "cell_type": "markdown",
      "source": [
        "## Performing cleaning operations"
      ],
      "metadata": {
        "id": "l_wswfhmjnkd"
      }
    },
    {
      "cell_type": "code",
      "source": [
        "df=df.fillna(df.mean())"
      ],
      "metadata": {
        "colab": {
          "base_uri": "https://localhost:8080/"
        },
        "id": "uQ-F98rpTZoe",
        "outputId": "d86cd854-70d7-4f1e-d600-1832245dc686"
      },
      "execution_count": null,
      "outputs": [
        {
          "output_type": "stream",
          "name": "stderr",
          "text": [
            "/usr/local/lib/python3.7/dist-packages/ipykernel_launcher.py:1: FutureWarning: Dropping of nuisance columns in DataFrame reductions (with 'numeric_only=None') is deprecated; in a future version this will raise TypeError.  Select only valid columns before calling the reduction.\n",
            "  \"\"\"Entry point for launching an IPython kernel.\n"
          ]
        }
      ]
    },
    {
      "cell_type": "code",
      "source": [
        "df = df.dropna()"
      ],
      "metadata": {
        "id": "ExR9n6MpTote"
      },
      "execution_count": null,
      "outputs": []
    },
    {
      "cell_type": "markdown",
      "source": [
        "## hierarchical clustering "
      ],
      "metadata": {
        "id": "ioRB9Brdjtq7"
      }
    },
    {
      "cell_type": "markdown",
      "source": [
        "tdp vs threadvalue clustering"
      ],
      "metadata": {
        "id": "MJj11wm7khiO"
      }
    },
    {
      "cell_type": "code",
      "source": [
        "from scipy.cluster.vq import whiten\n",
        "\n",
        "df['tdp_scaled'] = whiten(df['TDP'])\n",
        "df['threadval_scaled'] = whiten(df['threadValue'])"
      ],
      "metadata": {
        "id": "fCEzBO0WTAOP"
      },
      "execution_count": null,
      "outputs": []
    },
    {
      "cell_type": "code",
      "source": [
        "from scipy.cluster.hierarchy import linkage, fcluster\n",
        "\n",
        "# Use the linkage()\n",
        "distance_matrix = linkage(df[['tdp_scaled', 'threadval_scaled']], method='ward', metric='euclidean')\n",
        "\n",
        "# Assign cluster labels\n",
        "df['cluster_labels'] = fcluster(distance_matrix, 5, criterion='maxclust')\n",
        "\n",
        "# Plot clusters\n",
        "sns.scatterplot(x='tdp_scaled', y='threadval_scaled', hue='cluster_labels', data=df);"
      ],
      "metadata": {
        "colab": {
          "base_uri": "https://localhost:8080/",
          "height": 280
        },
        "id": "-H77Q1YJTy_0",
        "outputId": "0f094182-4b2e-46e8-d982-48eb8f072d7d"
      },
      "execution_count": null,
      "outputs": [
        {
          "output_type": "display_data",
          "data": {
            "text/plain": [
              "<Figure size 432x288 with 1 Axes>"
            ],
            "image/png": "[encoded data removed]"
          },
          "metadata": {
            "needs_background": "light"
          }
        }
      ]
    },
    {
      "cell_type": "markdown",
      "source": [
        "**Advantages**\n",
        "\n",
        "• Easy to implement\n",
        "\n",
        "• With a large number of variables, K-­‐Means may be computaHonally faster than\n",
        "hierarchical clustering (if K is small).\n",
        "\n",
        "• k-­‐Means may produce Hghter clusters than hierarchical clustering\n",
        "\n",
        "• An instance can change cluster (move to another cluster) when the centroids are re-­‐\n",
        "computed.\n"
      ],
      "metadata": {
        "id": "A-2pm8-Cj1Mh"
      }
    }
  ]
}