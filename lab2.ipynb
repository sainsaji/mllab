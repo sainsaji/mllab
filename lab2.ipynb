{
  "nbformat": 4,
  "nbformat_minor": 0,
  "metadata": {
    "colab": {
      "name": "KNN.ipynb",
      "provenance": [],
      "collapsed_sections": []
    },
    "kernelspec": {
      "name": "python3",
      "display_name": "Python 3"
    },
    "language_info": {
      "name": "python"
    }
  },
  "cells": [
    {
      "cell_type": "markdown",
      "source": [
        "## **Method 1**"
      ],
      "metadata": {
        "id": "7x89_R-_az9r"
      }
    },
    {
      "cell_type": "markdown",
      "source": [
        "**Imporing the libraries**"
      ],
      "metadata": {
        "id": "Gf54Nf5kbRiP"
      }
    },
    {
      "cell_type": "code",
      "source": [
        "import numpy as np\n",
        "import matplotlib.pyplot as plt\n",
        "import pandas as pd\n",
        "import sklearn\n",
        "import locale\n",
        "from locale import atof"
      ],
      "metadata": {
        "id": "i1mFt39UWlHF"
      },
      "execution_count": null,
      "outputs": []
    },
    {
      "cell_type": "markdown",
      "source": [
        "**Importing dataset**"
      ],
      "metadata": {
        "id": "5Tc_8v2cbV6A"
      }
    },
    {
      "cell_type": "code",
      "source": [
        "data_path = \"/content/CPU_benchmark.csv\"\n",
        "ds = pd.read_csv(data_path)"
      ],
      "metadata": {
        "id": "HXK0I2c9XlJa"
      },
      "execution_count": null,
      "outputs": []
    },
    {
      "cell_type": "markdown",
      "source": [
        "## **Printing Testing and Accuarcy Graph Method 1**"
      ],
      "metadata": {
        "id": "e0MMF5uxUQx4"
      }
    },
    {
      "cell_type": "markdown",
      "source": [
        "**Describing the imported dataset**"
      ],
      "metadata": {
        "id": "v_b03NOqUX9A"
      }
    },
    {
      "cell_type": "code",
      "source": [
        "ds"
      ],
      "metadata": {
        "colab": {
          "base_uri": "https://localhost:8080/",
          "height": 424
        },
        "id": "7qZfUdEoEa_O",
        "outputId": "10fdb09b-fb66-467b-fedb-ed952dcfe9c7"
      },
      "execution_count": null,
      "outputs": [
        {
          "output_type": "execute_result",
          "data": {
            "text/plain": [
              "                                cpuName    price  cpuMark  cpuValue  \\\n",
              "0     AMD Ryzen Threadripper PRO 5995WX      NaN  108,822       NaN   \n",
              "1                         AMD EPYC 7763  7299.99   88,338     12.10   \n",
              "2                         AMD EPYC 7J13      NaN   86,006       NaN   \n",
              "3                         AMD EPYC 7713  7060.00   85,861     12.16   \n",
              "4     AMD Ryzen Threadripper PRO 3995WX  6807.98   83,971     12.33   \n",
              "...                                 ...      ...      ...       ...   \n",
              "3820            Intel Pentium 4 1.60GHz      NaN       84       NaN   \n",
              "3821            Intel Pentium 4 1400MHz      NaN       83       NaN   \n",
              "3822            Intel Pentium 4 1500MHz      NaN       81       NaN   \n",
              "3823                   VIA Eden 1000MHz      NaN       80       NaN   \n",
              "3824            Intel Pentium 4 1300MHz      NaN       77       NaN   \n",
              "\n",
              "     threadMark  threadValue    TDP powerPerf  cores  testDate    socket  \\\n",
              "0         3,330          NaN  280.0    388.65     64      2022     sWRX8   \n",
              "1         2,635         0.36  280.0    315.49     64      2021       SP3   \n",
              "2         2,387          NaN    NaN       NaN     64      2021   unknown   \n",
              "3         2,727         0.39  225.0     381.6     64      2021       SP3   \n",
              "4         2,626         0.39  280.0     299.9     64      2020     sWRX8   \n",
              "...         ...          ...    ...       ...    ...       ...       ...   \n",
              "3820        225          NaN   38.0      2.22      1      2009    PGA478   \n",
              "3821        180          NaN   54.7      1.52      1      2009    PGA423   \n",
              "3822        223          NaN   57.8      1.41      1      2009    PGA423   \n",
              "3823         83          NaN    5.0     16.08      1      2017  NanoBGA2   \n",
              "3824        203          NaN   51.6       1.5      1      2009    PGA423   \n",
              "\n",
              "     category  \n",
              "0     Desktop  \n",
              "1      Server  \n",
              "2      Server  \n",
              "3      Server  \n",
              "4     Desktop  \n",
              "...       ...  \n",
              "3820  Desktop  \n",
              "3821  Desktop  \n",
              "3822  Desktop  \n",
              "3823   Laptop  \n",
              "3824  Desktop  \n",
              "\n",
              "[3825 rows x 12 columns]"
            ],
            "text/html": [
              "\n",
              "  <div id=\"df-435dfa6c-cd13-45f8-ac4e-c8948a53d320\">\n",
              "    <div class=\"colab-df-container\">\n",
              "      <div>\n",
              "<style scoped>\n",
              "    .dataframe tbody tr th:only-of-type {\n",
              "        vertical-align: middle;\n",
              "    }\n",
              "\n",
              "    .dataframe tbody tr th {\n",
              "        vertical-align: top;\n",
              "    }\n",
              "\n",
              "    .dataframe thead th {\n",
              "        text-align: right;\n",
              "    }\n",
              "</style>\n",
              "<table border=\"1\" class=\"dataframe\">\n",
              "  <thead>\n",
              "    <tr style=\"text-align: right;\">\n",
              "      <th></th>\n",
              "      <th>cpuName</th>\n",
              "      <th>price</th>\n",
              "      <th>cpuMark</th>\n",
              "      <th>cpuValue</th>\n",
              "      <th>threadMark</th>\n",
              "      <th>threadValue</th>\n",
              "      <th>TDP</th>\n",
              "      <th>powerPerf</th>\n",
              "      <th>cores</th>\n",
              "      <th>testDate</th>\n",
              "      <th>socket</th>\n",
              "      <th>category</th>\n",
              "    </tr>\n",
              "  </thead>\n",
              "  <tbody>\n",
              "    <tr>\n",
              "      <th>0</th>\n",
              "      <td>AMD Ryzen Threadripper PRO 5995WX</td>\n",
              "      <td>NaN</td>\n",
              "      <td>108,822</td>\n",
              "      <td>NaN</td>\n",
              "      <td>3,330</td>\n",
              "      <td>NaN</td>\n",
              "      <td>280.0</td>\n",
              "      <td>388.65</td>\n",
              "      <td>64</td>\n",
              "      <td>2022</td>\n",
              "      <td>sWRX8</td>\n",
              "      <td>Desktop</td>\n",
              "    </tr>\n",
              "    <tr>\n",
              "      <th>1</th>\n",
              "      <td>AMD EPYC 7763</td>\n",
              "      <td>7299.99</td>\n",
              "      <td>88,338</td>\n",
              "      <td>12.10</td>\n",
              "      <td>2,635</td>\n",
              "      <td>0.36</td>\n",
              "      <td>280.0</td>\n",
              "      <td>315.49</td>\n",
              "      <td>64</td>\n",
              "      <td>2021</td>\n",
              "      <td>SP3</td>\n",
              "      <td>Server</td>\n",
              "    </tr>\n",
              "    <tr>\n",
              "      <th>2</th>\n",
              "      <td>AMD EPYC 7J13</td>\n",
              "      <td>NaN</td>\n",
              "      <td>86,006</td>\n",
              "      <td>NaN</td>\n",
              "      <td>2,387</td>\n",
              "      <td>NaN</td>\n",
              "      <td>NaN</td>\n",
              "      <td>NaN</td>\n",
              "      <td>64</td>\n",
              "      <td>2021</td>\n",
              "      <td>unknown</td>\n",
              "      <td>Server</td>\n",
              "    </tr>\n",
              "    <tr>\n",
              "      <th>3</th>\n",
              "      <td>AMD EPYC 7713</td>\n",
              "      <td>7060.00</td>\n",
              "      <td>85,861</td>\n",
              "      <td>12.16</td>\n",
              "      <td>2,727</td>\n",
              "      <td>0.39</td>\n",
              "      <td>225.0</td>\n",
              "      <td>381.6</td>\n",
              "      <td>64</td>\n",
              "      <td>2021</td>\n",
              "      <td>SP3</td>\n",
              "      <td>Server</td>\n",
              "    </tr>\n",
              "    <tr>\n",
              "      <th>4</th>\n",
              "      <td>AMD Ryzen Threadripper PRO 3995WX</td>\n",
              "      <td>6807.98</td>\n",
              "      <td>83,971</td>\n",
              "      <td>12.33</td>\n",
              "      <td>2,626</td>\n",
              "      <td>0.39</td>\n",
              "      <td>280.0</td>\n",
              "      <td>299.9</td>\n",
              "      <td>64</td>\n",
              "      <td>2020</td>\n",
              "      <td>sWRX8</td>\n",
              "      <td>Desktop</td>\n",
              "    </tr>\n",
              "    <tr>\n",
              "      <th>...</th>\n",
              "      <td>...</td>\n",
              "      <td>...</td>\n",
              "      <td>...</td>\n",
              "      <td>...</td>\n",
              "      <td>...</td>\n",
              "      <td>...</td>\n",
              "      <td>...</td>\n",
              "      <td>...</td>\n",
              "      <td>...</td>\n",
              "      <td>...</td>\n",
              "      <td>...</td>\n",
              "      <td>...</td>\n",
              "    </tr>\n",
              "    <tr>\n",
              "      <th>3820</th>\n",
              "      <td>Intel Pentium 4 1.60GHz</td>\n",
              "      <td>NaN</td>\n",
              "      <td>84</td>\n",
              "      <td>NaN</td>\n",
              "      <td>225</td>\n",
              "      <td>NaN</td>\n",
              "      <td>38.0</td>\n",
              "      <td>2.22</td>\n",
              "      <td>1</td>\n",
              "      <td>2009</td>\n",
              "      <td>PGA478</td>\n",
              "      <td>Desktop</td>\n",
              "    </tr>\n",
              "    <tr>\n",
              "      <th>3821</th>\n",
              "      <td>Intel Pentium 4 1400MHz</td>\n",
              "      <td>NaN</td>\n",
              "      <td>83</td>\n",
              "      <td>NaN</td>\n",
              "      <td>180</td>\n",
              "      <td>NaN</td>\n",
              "      <td>54.7</td>\n",
              "      <td>1.52</td>\n",
              "      <td>1</td>\n",
              "      <td>2009</td>\n",
              "      <td>PGA423</td>\n",
              "      <td>Desktop</td>\n",
              "    </tr>\n",
              "    <tr>\n",
              "      <th>3822</th>\n",
              "      <td>Intel Pentium 4 1500MHz</td>\n",
              "      <td>NaN</td>\n",
              "      <td>81</td>\n",
              "      <td>NaN</td>\n",
              "      <td>223</td>\n",
              "      <td>NaN</td>\n",
              "      <td>57.8</td>\n",
              "      <td>1.41</td>\n",
              "      <td>1</td>\n",
              "      <td>2009</td>\n",
              "      <td>PGA423</td>\n",
              "      <td>Desktop</td>\n",
              "    </tr>\n",
              "    <tr>\n",
              "      <th>3823</th>\n",
              "      <td>VIA Eden 1000MHz</td>\n",
              "      <td>NaN</td>\n",
              "      <td>80</td>\n",
              "      <td>NaN</td>\n",
              "      <td>83</td>\n",
              "      <td>NaN</td>\n",
              "      <td>5.0</td>\n",
              "      <td>16.08</td>\n",
              "      <td>1</td>\n",
              "      <td>2017</td>\n",
              "      <td>NanoBGA2</td>\n",
              "      <td>Laptop</td>\n",
              "    </tr>\n",
              "    <tr>\n",
              "      <th>3824</th>\n",
              "      <td>Intel Pentium 4 1300MHz</td>\n",
              "      <td>NaN</td>\n",
              "      <td>77</td>\n",
              "      <td>NaN</td>\n",
              "      <td>203</td>\n",
              "      <td>NaN</td>\n",
              "      <td>51.6</td>\n",
              "      <td>1.5</td>\n",
              "      <td>1</td>\n",
              "      <td>2009</td>\n",
              "      <td>PGA423</td>\n",
              "      <td>Desktop</td>\n",
              "    </tr>\n",
              "  </tbody>\n",
              "</table>\n",
              "<p>3825 rows × 12 columns</p>\n",
              "</div>\n",
              "      <button class=\"colab-df-convert\" onclick=\"convertToInteractive('df-435dfa6c-cd13-45f8-ac4e-c8948a53d320')\"\n",
              "              title=\"Convert this dataframe to an interactive table.\"\n",
              "              style=\"display:none;\">\n",
              "        \n",
              "  <svg xmlns=\"http://www.w3.org/2000/svg\" height=\"24px\"viewBox=\"0 0 24 24\"\n",
              "       width=\"24px\">\n",
              "    <path d=\"M0 0h24v24H0V0z\" fill=\"none\"/>\n",
              "    <path d=\"M18.56 5.44l.94 2.06.94-2.06 2.06-.94-2.06-.94-.94-2.06-.94 2.06-2.06.94zm-11 1L8.5 8.5l.94-2.06 2.06-.94-2.06-.94L8.5 2.5l-.94 2.06-2.06.94zm10 10l.94 2.06.94-2.06 2.06-.94-2.06-.94-.94-2.06-.94 2.06-2.06.94z\"/><path d=\"M17.41 7.96l-1.37-1.37c-.4-.4-.92-.59-1.43-.59-.52 0-1.04.2-1.43.59L10.3 9.45l-7.72 7.72c-.78.78-.78 2.05 0 2.83L4 21.41c.39.39.9.59 1.41.59.51 0 1.02-.2 1.41-.59l7.78-7.78 2.81-2.81c.8-.78.8-2.07 0-2.86zM5.41 20L4 18.59l7.72-7.72 1.47 1.35L5.41 20z\"/>\n",
              "  </svg>\n",
              "      </button>\n",
              "      \n",
              "  <style>\n",
              "    .colab-df-container {\n",
              "      display:flex;\n",
              "      flex-wrap:wrap;\n",
              "      gap: 12px;\n",
              "    }\n",
              "\n",
              "    .colab-df-convert {\n",
              "      background-color: #E8F0FE;\n",
              "      border: none;\n",
              "      border-radius: 50%;\n",
              "      cursor: pointer;\n",
              "      display: none;\n",
              "      fill: #1967D2;\n",
              "      height: 32px;\n",
              "      padding: 0 0 0 0;\n",
              "      width: 32px;\n",
              "    }\n",
              "\n",
              "    .colab-df-convert:hover {\n",
              "      background-color: #E2EBFA;\n",
              "      box-shadow: 0px 1px 2px rgba(60, 64, 67, 0.3), 0px 1px 3px 1px rgba(60, 64, 67, 0.15);\n",
              "      fill: #174EA6;\n",
              "    }\n",
              "\n",
              "    [theme=dark] .colab-df-convert {\n",
              "      background-color: #3B4455;\n",
              "      fill: #D2E3FC;\n",
              "    }\n",
              "\n",
              "    [theme=dark] .colab-df-convert:hover {\n",
              "      background-color: #434B5C;\n",
              "      box-shadow: 0px 1px 3px 1px rgba(0, 0, 0, 0.15);\n",
              "      filter: drop-shadow(0px 1px 2px rgba(0, 0, 0, 0.3));\n",
              "      fill: #FFFFFF;\n",
              "    }\n",
              "  </style>\n",
              "\n",
              "      <script>\n",
              "        const buttonEl =\n",
              "          document.querySelector('#df-435dfa6c-cd13-45f8-ac4e-c8948a53d320 button.colab-df-convert');\n",
              "        buttonEl.style.display =\n",
              "          google.colab.kernel.accessAllowed ? 'block' : 'none';\n",
              "\n",
              "        async function convertToInteractive(key) {\n",
              "          const element = document.querySelector('#df-435dfa6c-cd13-45f8-ac4e-c8948a53d320');\n",
              "          const dataTable =\n",
              "            await google.colab.kernel.invokeFunction('convertToInteractive',\n",
              "                                                     [key], {});\n",
              "          if (!dataTable) return;\n",
              "\n",
              "          const docLinkHtml = 'Like what you see? Visit the ' +\n",
              "            '<a target=\"_blank\" href=https://colab.research.google.com/notebooks/data_table.ipynb>data table notebook</a>'\n",
              "            + ' to learn more about interactive tables.';\n",
              "          element.innerHTML = '';\n",
              "          dataTable['output_type'] = 'display_data';\n",
              "          await google.colab.output.renderOutput(dataTable, element);\n",
              "          const docLink = document.createElement('div');\n",
              "          docLink.innerHTML = docLinkHtml;\n",
              "          element.appendChild(docLink);\n",
              "        }\n",
              "      </script>\n",
              "    </div>\n",
              "  </div>\n",
              "  "
            ]
          },
          "metadata": {},
          "execution_count": 23
        }
      ]
    },
    {
      "cell_type": "markdown",
      "source": [
        "## **Finding all the unique values**\n",
        "\n",
        "\n",
        "\n"
      ],
      "metadata": {
        "id": "s0T6kjvDCKll"
      }
    },
    {
      "cell_type": "markdown",
      "source": [
        "**using nunique**"
      ],
      "metadata": {
        "id": "AMxltDihbgKi"
      }
    },
    {
      "cell_type": "code",
      "source": [
        "ds.nunique()"
      ],
      "metadata": {
        "colab": {
          "base_uri": "https://localhost:8080/"
        },
        "id": "5b13qPAtCBab",
        "outputId": "07f2b09b-05c2-4b7d-86ae-ed00e56042b5"
      },
      "execution_count": null,
      "outputs": [
        {
          "output_type": "execute_result",
          "data": {
            "text/plain": [
              "cpuName        3825\n",
              "price          1324\n",
              "cpuMark        3068\n",
              "cpuValue       1722\n",
              "threadMark     2093\n",
              "threadValue    1442\n",
              "TDP             154\n",
              "powerPerf      2913\n",
              "cores            24\n",
              "testDate         16\n",
              "socket          203\n",
              "category         12\n",
              "dtype: int64"
            ]
          },
          "metadata": {},
          "execution_count": 24
        }
      ]
    },
    {
      "cell_type": "markdown",
      "source": [
        "## **Finding all unique categories**"
      ],
      "metadata": {
        "id": "RcfbGv4dxD7-"
      }
    },
    {
      "cell_type": "markdown",
      "source": [
        "**unique data in categoreis**"
      ],
      "metadata": {
        "id": "EyMl7KQJbmF_"
      }
    },
    {
      "cell_type": "code",
      "source": [
        "ds.category.unique()"
      ],
      "metadata": {
        "colab": {
          "base_uri": "https://localhost:8080/"
        },
        "id": "xzN7OVxdCgjp",
        "outputId": "3f53c665-7a6b-41d3-86e5-8183c978f2ef"
      },
      "execution_count": null,
      "outputs": [
        {
          "output_type": "execute_result",
          "data": {
            "text/plain": [
              "array(['Desktop', 'Server', 'Desktop, Server', 'Unknown', 'Laptop',\n",
              "       'Laptop, Server', 'Desktop, Laptop', 'Desktop, Mobile/Embedded',\n",
              "       'Server, Mobile/Embedded', 'Mobile/Embedded',\n",
              "       'Laptop, Mobile/Embedded', 'Desktop, Laptop, Mobile/Embedded'],\n",
              "      dtype=object)"
            ]
          },
          "metadata": {},
          "execution_count": 25
        }
      ]
    },
    {
      "cell_type": "markdown",
      "source": [
        "## **Checking if there are null values**"
      ],
      "metadata": {
        "id": "tZkzmdvCDGsd"
      }
    },
    {
      "cell_type": "code",
      "source": [
        "ds.isnull()"
      ],
      "metadata": {
        "colab": {
          "base_uri": "https://localhost:8080/",
          "height": 424
        },
        "id": "DAxwBhKMC_sf",
        "outputId": "1b28ccf0-857f-41ea-bf13-500e401f4c9a"
      },
      "execution_count": null,
      "outputs": [
        {
          "output_type": "execute_result",
          "data": {
            "text/plain": [
              "      cpuName  price  cpuMark  cpuValue  threadMark  threadValue    TDP  \\\n",
              "0       False   True    False      True       False         True  False   \n",
              "1       False  False    False     False       False        False  False   \n",
              "2       False   True    False      True       False         True   True   \n",
              "3       False  False    False     False       False        False  False   \n",
              "4       False  False    False     False       False        False  False   \n",
              "...       ...    ...      ...       ...         ...          ...    ...   \n",
              "3820    False   True    False      True       False         True  False   \n",
              "3821    False   True    False      True       False         True  False   \n",
              "3822    False   True    False      True       False         True  False   \n",
              "3823    False   True    False      True       False         True  False   \n",
              "3824    False   True    False      True       False         True  False   \n",
              "\n",
              "      powerPerf  cores  testDate  socket  category  \n",
              "0         False  False     False   False     False  \n",
              "1         False  False     False   False     False  \n",
              "2          True  False     False   False     False  \n",
              "3         False  False     False   False     False  \n",
              "4         False  False     False   False     False  \n",
              "...         ...    ...       ...     ...       ...  \n",
              "3820      False  False     False   False     False  \n",
              "3821      False  False     False   False     False  \n",
              "3822      False  False     False   False     False  \n",
              "3823      False  False     False   False     False  \n",
              "3824      False  False     False   False     False  \n",
              "\n",
              "[3825 rows x 12 columns]"
            ],
            "text/html": [
              "\n",
              "  <div id=\"df-25627cdf-a2e6-4ed0-9c09-f3e6b5749348\">\n",
              "    <div class=\"colab-df-container\">\n",
              "      <div>\n",
              "<style scoped>\n",
              "    .dataframe tbody tr th:only-of-type {\n",
              "        vertical-align: middle;\n",
              "    }\n",
              "\n",
              "    .dataframe tbody tr th {\n",
              "        vertical-align: top;\n",
              "    }\n",
              "\n",
              "    .dataframe thead th {\n",
              "        text-align: right;\n",
              "    }\n",
              "</style>\n",
              "<table border=\"1\" class=\"dataframe\">\n",
              "  <thead>\n",
              "    <tr style=\"text-align: right;\">\n",
              "      <th></th>\n",
              "      <th>cpuName</th>\n",
              "      <th>price</th>\n",
              "      <th>cpuMark</th>\n",
              "      <th>cpuValue</th>\n",
              "      <th>threadMark</th>\n",
              "      <th>threadValue</th>\n",
              "      <th>TDP</th>\n",
              "      <th>powerPerf</th>\n",
              "      <th>cores</th>\n",
              "      <th>testDate</th>\n",
              "      <th>socket</th>\n",
              "      <th>category</th>\n",
              "    </tr>\n",
              "  </thead>\n",
              "  <tbody>\n",
              "    <tr>\n",
              "      <th>0</th>\n",
              "      <td>False</td>\n",
              "      <td>True</td>\n",
              "      <td>False</td>\n",
              "      <td>True</td>\n",
              "      <td>False</td>\n",
              "      <td>True</td>\n",
              "      <td>False</td>\n",
              "      <td>False</td>\n",
              "      <td>False</td>\n",
              "      <td>False</td>\n",
              "      <td>False</td>\n",
              "      <td>False</td>\n",
              "    </tr>\n",
              "    <tr>\n",
              "      <th>1</th>\n",
              "      <td>False</td>\n",
              "      <td>False</td>\n",
              "      <td>False</td>\n",
              "      <td>False</td>\n",
              "      <td>False</td>\n",
              "      <td>False</td>\n",
              "      <td>False</td>\n",
              "      <td>False</td>\n",
              "      <td>False</td>\n",
              "      <td>False</td>\n",
              "      <td>False</td>\n",
              "      <td>False</td>\n",
              "    </tr>\n",
              "    <tr>\n",
              "      <th>2</th>\n",
              "      <td>False</td>\n",
              "      <td>True</td>\n",
              "      <td>False</td>\n",
              "      <td>True</td>\n",
              "      <td>False</td>\n",
              "      <td>True</td>\n",
              "      <td>True</td>\n",
              "      <td>True</td>\n",
              "      <td>False</td>\n",
              "      <td>False</td>\n",
              "      <td>False</td>\n",
              "      <td>False</td>\n",
              "    </tr>\n",
              "    <tr>\n",
              "      <th>3</th>\n",
              "      <td>False</td>\n",
              "      <td>False</td>\n",
              "      <td>False</td>\n",
              "      <td>False</td>\n",
              "      <td>False</td>\n",
              "      <td>False</td>\n",
              "      <td>False</td>\n",
              "      <td>False</td>\n",
              "      <td>False</td>\n",
              "      <td>False</td>\n",
              "      <td>False</td>\n",
              "      <td>False</td>\n",
              "    </tr>\n",
              "    <tr>\n",
              "      <th>4</th>\n",
              "      <td>False</td>\n",
              "      <td>False</td>\n",
              "      <td>False</td>\n",
              "      <td>False</td>\n",
              "      <td>False</td>\n",
              "      <td>False</td>\n",
              "      <td>False</td>\n",
              "      <td>False</td>\n",
              "      <td>False</td>\n",
              "      <td>False</td>\n",
              "      <td>False</td>\n",
              "      <td>False</td>\n",
              "    </tr>\n",
              "    <tr>\n",
              "      <th>...</th>\n",
              "      <td>...</td>\n",
              "      <td>...</td>\n",
              "      <td>...</td>\n",
              "      <td>...</td>\n",
              "      <td>...</td>\n",
              "      <td>...</td>\n",
              "      <td>...</td>\n",
              "      <td>...</td>\n",
              "      <td>...</td>\n",
              "      <td>...</td>\n",
              "      <td>...</td>\n",
              "      <td>...</td>\n",
              "    </tr>\n",
              "    <tr>\n",
              "      <th>3820</th>\n",
              "      <td>False</td>\n",
              "      <td>True</td>\n",
              "      <td>False</td>\n",
              "      <td>True</td>\n",
              "      <td>False</td>\n",
              "      <td>True</td>\n",
              "      <td>False</td>\n",
              "      <td>False</td>\n",
              "      <td>False</td>\n",
              "      <td>False</td>\n",
              "      <td>False</td>\n",
              "      <td>False</td>\n",
              "    </tr>\n",
              "    <tr>\n",
              "      <th>3821</th>\n",
              "      <td>False</td>\n",
              "      <td>True</td>\n",
              "      <td>False</td>\n",
              "      <td>True</td>\n",
              "      <td>False</td>\n",
              "      <td>True</td>\n",
              "      <td>False</td>\n",
              "      <td>False</td>\n",
              "      <td>False</td>\n",
              "      <td>False</td>\n",
              "      <td>False</td>\n",
              "      <td>False</td>\n",
              "    </tr>\n",
              "    <tr>\n",
              "      <th>3822</th>\n",
              "      <td>False</td>\n",
              "      <td>True</td>\n",
              "      <td>False</td>\n",
              "      <td>True</td>\n",
              "      <td>False</td>\n",
              "      <td>True</td>\n",
              "      <td>False</td>\n",
              "      <td>False</td>\n",
              "      <td>False</td>\n",
              "      <td>False</td>\n",
              "      <td>False</td>\n",
              "      <td>False</td>\n",
              "    </tr>\n",
              "    <tr>\n",
              "      <th>3823</th>\n",
              "      <td>False</td>\n",
              "      <td>True</td>\n",
              "      <td>False</td>\n",
              "      <td>True</td>\n",
              "      <td>False</td>\n",
              "      <td>True</td>\n",
              "      <td>False</td>\n",
              "      <td>False</td>\n",
              "      <td>False</td>\n",
              "      <td>False</td>\n",
              "      <td>False</td>\n",
              "      <td>False</td>\n",
              "    </tr>\n",
              "    <tr>\n",
              "      <th>3824</th>\n",
              "      <td>False</td>\n",
              "      <td>True</td>\n",
              "      <td>False</td>\n",
              "      <td>True</td>\n",
              "      <td>False</td>\n",
              "      <td>True</td>\n",
              "      <td>False</td>\n",
              "      <td>False</td>\n",
              "      <td>False</td>\n",
              "      <td>False</td>\n",
              "      <td>False</td>\n",
              "      <td>False</td>\n",
              "    </tr>\n",
              "  </tbody>\n",
              "</table>\n",
              "<p>3825 rows × 12 columns</p>\n",
              "</div>\n",
              "      <button class=\"colab-df-convert\" onclick=\"convertToInteractive('df-25627cdf-a2e6-4ed0-9c09-f3e6b5749348')\"\n",
              "              title=\"Convert this dataframe to an interactive table.\"\n",
              "              style=\"display:none;\">\n",
              "        \n",
              "  <svg xmlns=\"http://www.w3.org/2000/svg\" height=\"24px\"viewBox=\"0 0 24 24\"\n",
              "       width=\"24px\">\n",
              "    <path d=\"M0 0h24v24H0V0z\" fill=\"none\"/>\n",
              "    <path d=\"M18.56 5.44l.94 2.06.94-2.06 2.06-.94-2.06-.94-.94-2.06-.94 2.06-2.06.94zm-11 1L8.5 8.5l.94-2.06 2.06-.94-2.06-.94L8.5 2.5l-.94 2.06-2.06.94zm10 10l.94 2.06.94-2.06 2.06-.94-2.06-.94-.94-2.06-.94 2.06-2.06.94z\"/><path d=\"M17.41 7.96l-1.37-1.37c-.4-.4-.92-.59-1.43-.59-.52 0-1.04.2-1.43.59L10.3 9.45l-7.72 7.72c-.78.78-.78 2.05 0 2.83L4 21.41c.39.39.9.59 1.41.59.51 0 1.02-.2 1.41-.59l7.78-7.78 2.81-2.81c.8-.78.8-2.07 0-2.86zM5.41 20L4 18.59l7.72-7.72 1.47 1.35L5.41 20z\"/>\n",
              "  </svg>\n",
              "      </button>\n",
              "      \n",
              "  <style>\n",
              "    .colab-df-container {\n",
              "      display:flex;\n",
              "      flex-wrap:wrap;\n",
              "      gap: 12px;\n",
              "    }\n",
              "\n",
              "    .colab-df-convert {\n",
              "      background-color: #E8F0FE;\n",
              "      border: none;\n",
              "      border-radius: 50%;\n",
              "      cursor: pointer;\n",
              "      display: none;\n",
              "      fill: #1967D2;\n",
              "      height: 32px;\n",
              "      padding: 0 0 0 0;\n",
              "      width: 32px;\n",
              "    }\n",
              "\n",
              "    .colab-df-convert:hover {\n",
              "      background-color: #E2EBFA;\n",
              "      box-shadow: 0px 1px 2px rgba(60, 64, 67, 0.3), 0px 1px 3px 1px rgba(60, 64, 67, 0.15);\n",
              "      fill: #174EA6;\n",
              "    }\n",
              "\n",
              "    [theme=dark] .colab-df-convert {\n",
              "      background-color: #3B4455;\n",
              "      fill: #D2E3FC;\n",
              "    }\n",
              "\n",
              "    [theme=dark] .colab-df-convert:hover {\n",
              "      background-color: #434B5C;\n",
              "      box-shadow: 0px 1px 3px 1px rgba(0, 0, 0, 0.15);\n",
              "      filter: drop-shadow(0px 1px 2px rgba(0, 0, 0, 0.3));\n",
              "      fill: #FFFFFF;\n",
              "    }\n",
              "  </style>\n",
              "\n",
              "      <script>\n",
              "        const buttonEl =\n",
              "          document.querySelector('#df-25627cdf-a2e6-4ed0-9c09-f3e6b5749348 button.colab-df-convert');\n",
              "        buttonEl.style.display =\n",
              "          google.colab.kernel.accessAllowed ? 'block' : 'none';\n",
              "\n",
              "        async function convertToInteractive(key) {\n",
              "          const element = document.querySelector('#df-25627cdf-a2e6-4ed0-9c09-f3e6b5749348');\n",
              "          const dataTable =\n",
              "            await google.colab.kernel.invokeFunction('convertToInteractive',\n",
              "                                                     [key], {});\n",
              "          if (!dataTable) return;\n",
              "\n",
              "          const docLinkHtml = 'Like what you see? Visit the ' +\n",
              "            '<a target=\"_blank\" href=https://colab.research.google.com/notebooks/data_table.ipynb>data table notebook</a>'\n",
              "            + ' to learn more about interactive tables.';\n",
              "          element.innerHTML = '';\n",
              "          dataTable['output_type'] = 'display_data';\n",
              "          await google.colab.output.renderOutput(dataTable, element);\n",
              "          const docLink = document.createElement('div');\n",
              "          docLink.innerHTML = docLinkHtml;\n",
              "          element.appendChild(docLink);\n",
              "        }\n",
              "      </script>\n",
              "    </div>\n",
              "  </div>\n",
              "  "
            ]
          },
          "metadata": {},
          "execution_count": 26
        }
      ]
    },
    {
      "cell_type": "markdown",
      "source": [
        "## **Summing the null values**"
      ],
      "metadata": {
        "id": "JBtXY1HUDPOC"
      }
    },
    {
      "cell_type": "code",
      "source": [
        "ds.isnull().sum()"
      ],
      "metadata": {
        "colab": {
          "base_uri": "https://localhost:8080/"
        },
        "id": "hzMZGa39DO28",
        "outputId": "5d9dbc7f-088e-4f42-daca-5caea752fc07"
      },
      "execution_count": null,
      "outputs": [
        {
          "output_type": "execute_result",
          "data": {
            "text/plain": [
              "cpuName           0\n",
              "price          1858\n",
              "cpuMark           0\n",
              "cpuValue       1858\n",
              "threadMark        0\n",
              "threadValue    1858\n",
              "TDP             685\n",
              "powerPerf       685\n",
              "cores             0\n",
              "testDate          0\n",
              "socket            0\n",
              "category          0\n",
              "dtype: int64"
            ]
          },
          "metadata": {},
          "execution_count": 27
        }
      ]
    },
    {
      "cell_type": "markdown",
      "source": [
        "## **Filling null values with mod for all missing values**"
      ],
      "metadata": {
        "id": "GEqFgV9ZDOi9"
      }
    },
    {
      "cell_type": "markdown",
      "source": [
        "I've filled all the null values with mean method"
      ],
      "metadata": {
        "id": "GQ206dANMCt4"
      }
    },
    {
      "cell_type": "code",
      "source": [
        "ds=ds.fillna(ds.mean())"
      ],
      "metadata": {
        "colab": {
          "base_uri": "https://localhost:8080/"
        },
        "id": "IZflJ6OcD-2A",
        "outputId": "c1423d02-70da-4789-e106-9f14ecd6c39b"
      },
      "execution_count": null,
      "outputs": [
        {
          "output_type": "stream",
          "name": "stderr",
          "text": [
            "/usr/local/lib/python3.7/dist-packages/ipykernel_launcher.py:1: FutureWarning: Dropping of nuisance columns in DataFrame reductions (with 'numeric_only=None') is deprecated; in a future version this will raise TypeError.  Select only valid columns before calling the reduction.\n",
            "  \"\"\"Entry point for launching an IPython kernel.\n"
          ]
        }
      ]
    },
    {
      "cell_type": "markdown",
      "source": [
        "## **Checking null values after mean method**"
      ],
      "metadata": {
        "id": "0vIPiQQ5IEaa"
      }
    },
    {
      "cell_type": "markdown",
      "source": [
        "After the null value removing we call see most of the colomn using .sum() method\n",
        "**bold text**"
      ],
      "metadata": {
        "id": "kfRSFoBfMRxm"
      }
    },
    {
      "cell_type": "code",
      "source": [
        "ds.isnull().sum()"
      ],
      "metadata": {
        "colab": {
          "base_uri": "https://localhost:8080/"
        },
        "id": "bPCOz7CsGwr7",
        "outputId": "df28d717-9f1e-4198-ae40-e5892304f206"
      },
      "execution_count": null,
      "outputs": [
        {
          "output_type": "execute_result",
          "data": {
            "text/plain": [
              "cpuName          0\n",
              "price            0\n",
              "cpuMark          0\n",
              "cpuValue         0\n",
              "threadMark       0\n",
              "threadValue      0\n",
              "TDP              0\n",
              "powerPerf      685\n",
              "cores            0\n",
              "testDate         0\n",
              "socket           0\n",
              "category         0\n",
              "dtype: int64"
            ]
          },
          "metadata": {},
          "execution_count": 29
        }
      ]
    },
    {
      "cell_type": "markdown",
      "source": [
        "## **Dropping rows with non numerical null values**"
      ],
      "metadata": {
        "id": "051_97jpIWNR"
      }
    },
    {
      "cell_type": "markdown",
      "source": [
        "**For null values which are not getting removed . I've used drop na**"
      ],
      "metadata": {
        "id": "b7yrgq_4MUt-"
      }
    },
    {
      "cell_type": "code",
      "source": [
        "ds.dropna()"
      ],
      "metadata": {
        "colab": {
          "base_uri": "https://localhost:8080/",
          "height": 424
        },
        "id": "g9LDN5hdIWnR",
        "outputId": "21fe3a5a-b64f-4a21-dca7-0e48ef98291b"
      },
      "execution_count": null,
      "outputs": [
        {
          "output_type": "execute_result",
          "data": {
            "text/plain": [
              "                                cpuName        price  cpuMark   cpuValue  \\\n",
              "0     AMD Ryzen Threadripper PRO 5995WX   441.500946  108,822  35.354911   \n",
              "1                         AMD EPYC 7763  7299.990000   88,338  12.100000   \n",
              "3                         AMD EPYC 7713  7060.000000   85,861  12.160000   \n",
              "4     AMD Ryzen Threadripper PRO 3995WX  6807.980000   83,971  12.330000   \n",
              "5          AMD Ryzen Threadripper 3990X  8399.690000   81,568   9.710000   \n",
              "...                                 ...          ...      ...        ...   \n",
              "3820            Intel Pentium 4 1.60GHz   441.500946       84  35.354911   \n",
              "3821            Intel Pentium 4 1400MHz   441.500946       83  35.354911   \n",
              "3822            Intel Pentium 4 1500MHz   441.500946       81  35.354911   \n",
              "3823                   VIA Eden 1000MHz   441.500946       80  35.354911   \n",
              "3824            Intel Pentium 4 1300MHz   441.500946       77  35.354911   \n",
              "\n",
              "     threadMark  threadValue    TDP powerPerf  cores  testDate    socket  \\\n",
              "0         3,330    15.189009  280.0    388.65     64      2022     sWRX8   \n",
              "1         2,635     0.360000  280.0    315.49     64      2021       SP3   \n",
              "3         2,727     0.390000  225.0     381.6     64      2021       SP3   \n",
              "4         2,626     0.390000  280.0     299.9     64      2020     sWRX8   \n",
              "5         2,569     0.310000  280.0    291.31     64      2020     sTRX4   \n",
              "...         ...          ...    ...       ...    ...       ...       ...   \n",
              "3820        225    15.189009   38.0      2.22      1      2009    PGA478   \n",
              "3821        180    15.189009   54.7      1.52      1      2009    PGA423   \n",
              "3822        223    15.189009   57.8      1.41      1      2009    PGA423   \n",
              "3823         83    15.189009    5.0     16.08      1      2017  NanoBGA2   \n",
              "3824        203    15.189009   51.6       1.5      1      2009    PGA423   \n",
              "\n",
              "     category  \n",
              "0     Desktop  \n",
              "1      Server  \n",
              "3      Server  \n",
              "4     Desktop  \n",
              "5     Desktop  \n",
              "...       ...  \n",
              "3820  Desktop  \n",
              "3821  Desktop  \n",
              "3822  Desktop  \n",
              "3823   Laptop  \n",
              "3824  Desktop  \n",
              "\n",
              "[3140 rows x 12 columns]"
            ],
            "text/html": [
              "\n",
              "  <div id=\"df-d3c168a9-3400-490e-9825-d77c400a1341\">\n",
              "    <div class=\"colab-df-container\">\n",
              "      <div>\n",
              "<style scoped>\n",
              "    .dataframe tbody tr th:only-of-type {\n",
              "        vertical-align: middle;\n",
              "    }\n",
              "\n",
              "    .dataframe tbody tr th {\n",
              "        vertical-align: top;\n",
              "    }\n",
              "\n",
              "    .dataframe thead th {\n",
              "        text-align: right;\n",
              "    }\n",
              "</style>\n",
              "<table border=\"1\" class=\"dataframe\">\n",
              "  <thead>\n",
              "    <tr style=\"text-align: right;\">\n",
              "      <th></th>\n",
              "      <th>cpuName</th>\n",
              "      <th>price</th>\n",
              "      <th>cpuMark</th>\n",
              "      <th>cpuValue</th>\n",
              "      <th>threadMark</th>\n",
              "      <th>threadValue</th>\n",
              "      <th>TDP</th>\n",
              "      <th>powerPerf</th>\n",
              "      <th>cores</th>\n",
              "      <th>testDate</th>\n",
              "      <th>socket</th>\n",
              "      <th>category</th>\n",
              "    </tr>\n",
              "  </thead>\n",
              "  <tbody>\n",
              "    <tr>\n",
              "      <th>0</th>\n",
              "      <td>AMD Ryzen Threadripper PRO 5995WX</td>\n",
              "      <td>441.500946</td>\n",
              "      <td>108,822</td>\n",
              "      <td>35.354911</td>\n",
              "      <td>3,330</td>\n",
              "      <td>15.189009</td>\n",
              "      <td>280.0</td>\n",
              "      <td>388.65</td>\n",
              "      <td>64</td>\n",
              "      <td>2022</td>\n",
              "      <td>sWRX8</td>\n",
              "      <td>Desktop</td>\n",
              "    </tr>\n",
              "    <tr>\n",
              "      <th>1</th>\n",
              "      <td>AMD EPYC 7763</td>\n",
              "      <td>7299.990000</td>\n",
              "      <td>88,338</td>\n",
              "      <td>12.100000</td>\n",
              "      <td>2,635</td>\n",
              "      <td>0.360000</td>\n",
              "      <td>280.0</td>\n",
              "      <td>315.49</td>\n",
              "      <td>64</td>\n",
              "      <td>2021</td>\n",
              "      <td>SP3</td>\n",
              "      <td>Server</td>\n",
              "    </tr>\n",
              "    <tr>\n",
              "      <th>3</th>\n",
              "      <td>AMD EPYC 7713</td>\n",
              "      <td>7060.000000</td>\n",
              "      <td>85,861</td>\n",
              "      <td>12.160000</td>\n",
              "      <td>2,727</td>\n",
              "      <td>0.390000</td>\n",
              "      <td>225.0</td>\n",
              "      <td>381.6</td>\n",
              "      <td>64</td>\n",
              "      <td>2021</td>\n",
              "      <td>SP3</td>\n",
              "      <td>Server</td>\n",
              "    </tr>\n",
              "    <tr>\n",
              "      <th>4</th>\n",
              "      <td>AMD Ryzen Threadripper PRO 3995WX</td>\n",
              "      <td>6807.980000</td>\n",
              "      <td>83,971</td>\n",
              "      <td>12.330000</td>\n",
              "      <td>2,626</td>\n",
              "      <td>0.390000</td>\n",
              "      <td>280.0</td>\n",
              "      <td>299.9</td>\n",
              "      <td>64</td>\n",
              "      <td>2020</td>\n",
              "      <td>sWRX8</td>\n",
              "      <td>Desktop</td>\n",
              "    </tr>\n",
              "    <tr>\n",
              "      <th>5</th>\n",
              "      <td>AMD Ryzen Threadripper 3990X</td>\n",
              "      <td>8399.690000</td>\n",
              "      <td>81,568</td>\n",
              "      <td>9.710000</td>\n",
              "      <td>2,569</td>\n",
              "      <td>0.310000</td>\n",
              "      <td>280.0</td>\n",
              "      <td>291.31</td>\n",
              "      <td>64</td>\n",
              "      <td>2020</td>\n",
              "      <td>sTRX4</td>\n",
              "      <td>Desktop</td>\n",
              "    </tr>\n",
              "    <tr>\n",
              "      <th>...</th>\n",
              "      <td>...</td>\n",
              "      <td>...</td>\n",
              "      <td>...</td>\n",
              "      <td>...</td>\n",
              "      <td>...</td>\n",
              "      <td>...</td>\n",
              "      <td>...</td>\n",
              "      <td>...</td>\n",
              "      <td>...</td>\n",
              "      <td>...</td>\n",
              "      <td>...</td>\n",
              "      <td>...</td>\n",
              "    </tr>\n",
              "    <tr>\n",
              "      <th>3820</th>\n",
              "      <td>Intel Pentium 4 1.60GHz</td>\n",
              "      <td>441.500946</td>\n",
              "      <td>84</td>\n",
              "      <td>35.354911</td>\n",
              "      <td>225</td>\n",
              "      <td>15.189009</td>\n",
              "      <td>38.0</td>\n",
              "      <td>2.22</td>\n",
              "      <td>1</td>\n",
              "      <td>2009</td>\n",
              "      <td>PGA478</td>\n",
              "      <td>Desktop</td>\n",
              "    </tr>\n",
              "    <tr>\n",
              "      <th>3821</th>\n",
              "      <td>Intel Pentium 4 1400MHz</td>\n",
              "      <td>441.500946</td>\n",
              "      <td>83</td>\n",
              "      <td>35.354911</td>\n",
              "      <td>180</td>\n",
              "      <td>15.189009</td>\n",
              "      <td>54.7</td>\n",
              "      <td>1.52</td>\n",
              "      <td>1</td>\n",
              "      <td>2009</td>\n",
              "      <td>PGA423</td>\n",
              "      <td>Desktop</td>\n",
              "    </tr>\n",
              "    <tr>\n",
              "      <th>3822</th>\n",
              "      <td>Intel Pentium 4 1500MHz</td>\n",
              "      <td>441.500946</td>\n",
              "      <td>81</td>\n",
              "      <td>35.354911</td>\n",
              "      <td>223</td>\n",
              "      <td>15.189009</td>\n",
              "      <td>57.8</td>\n",
              "      <td>1.41</td>\n",
              "      <td>1</td>\n",
              "      <td>2009</td>\n",
              "      <td>PGA423</td>\n",
              "      <td>Desktop</td>\n",
              "    </tr>\n",
              "    <tr>\n",
              "      <th>3823</th>\n",
              "      <td>VIA Eden 1000MHz</td>\n",
              "      <td>441.500946</td>\n",
              "      <td>80</td>\n",
              "      <td>35.354911</td>\n",
              "      <td>83</td>\n",
              "      <td>15.189009</td>\n",
              "      <td>5.0</td>\n",
              "      <td>16.08</td>\n",
              "      <td>1</td>\n",
              "      <td>2017</td>\n",
              "      <td>NanoBGA2</td>\n",
              "      <td>Laptop</td>\n",
              "    </tr>\n",
              "    <tr>\n",
              "      <th>3824</th>\n",
              "      <td>Intel Pentium 4 1300MHz</td>\n",
              "      <td>441.500946</td>\n",
              "      <td>77</td>\n",
              "      <td>35.354911</td>\n",
              "      <td>203</td>\n",
              "      <td>15.189009</td>\n",
              "      <td>51.6</td>\n",
              "      <td>1.5</td>\n",
              "      <td>1</td>\n",
              "      <td>2009</td>\n",
              "      <td>PGA423</td>\n",
              "      <td>Desktop</td>\n",
              "    </tr>\n",
              "  </tbody>\n",
              "</table>\n",
              "<p>3140 rows × 12 columns</p>\n",
              "</div>\n",
              "      <button class=\"colab-df-convert\" onclick=\"convertToInteractive('df-d3c168a9-3400-490e-9825-d77c400a1341')\"\n",
              "              title=\"Convert this dataframe to an interactive table.\"\n",
              "              style=\"display:none;\">\n",
              "        \n",
              "  <svg xmlns=\"http://www.w3.org/2000/svg\" height=\"24px\"viewBox=\"0 0 24 24\"\n",
              "       width=\"24px\">\n",
              "    <path d=\"M0 0h24v24H0V0z\" fill=\"none\"/>\n",
              "    <path d=\"M18.56 5.44l.94 2.06.94-2.06 2.06-.94-2.06-.94-.94-2.06-.94 2.06-2.06.94zm-11 1L8.5 8.5l.94-2.06 2.06-.94-2.06-.94L8.5 2.5l-.94 2.06-2.06.94zm10 10l.94 2.06.94-2.06 2.06-.94-2.06-.94-.94-2.06-.94 2.06-2.06.94z\"/><path d=\"M17.41 7.96l-1.37-1.37c-.4-.4-.92-.59-1.43-.59-.52 0-1.04.2-1.43.59L10.3 9.45l-7.72 7.72c-.78.78-.78 2.05 0 2.83L4 21.41c.39.39.9.59 1.41.59.51 0 1.02-.2 1.41-.59l7.78-7.78 2.81-2.81c.8-.78.8-2.07 0-2.86zM5.41 20L4 18.59l7.72-7.72 1.47 1.35L5.41 20z\"/>\n",
              "  </svg>\n",
              "      </button>\n",
              "      \n",
              "  <style>\n",
              "    .colab-df-container {\n",
              "      display:flex;\n",
              "      flex-wrap:wrap;\n",
              "      gap: 12px;\n",
              "    }\n",
              "\n",
              "    .colab-df-convert {\n",
              "      background-color: #E8F0FE;\n",
              "      border: none;\n",
              "      border-radius: 50%;\n",
              "      cursor: pointer;\n",
              "      display: none;\n",
              "      fill: #1967D2;\n",
              "      height: 32px;\n",
              "      padding: 0 0 0 0;\n",
              "      width: 32px;\n",
              "    }\n",
              "\n",
              "    .colab-df-convert:hover {\n",
              "      background-color: #E2EBFA;\n",
              "      box-shadow: 0px 1px 2px rgba(60, 64, 67, 0.3), 0px 1px 3px 1px rgba(60, 64, 67, 0.15);\n",
              "      fill: #174EA6;\n",
              "    }\n",
              "\n",
              "    [theme=dark] .colab-df-convert {\n",
              "      background-color: #3B4455;\n",
              "      fill: #D2E3FC;\n",
              "    }\n",
              "\n",
              "    [theme=dark] .colab-df-convert:hover {\n",
              "      background-color: #434B5C;\n",
              "      box-shadow: 0px 1px 3px 1px rgba(0, 0, 0, 0.15);\n",
              "      filter: drop-shadow(0px 1px 2px rgba(0, 0, 0, 0.3));\n",
              "      fill: #FFFFFF;\n",
              "    }\n",
              "  </style>\n",
              "\n",
              "      <script>\n",
              "        const buttonEl =\n",
              "          document.querySelector('#df-d3c168a9-3400-490e-9825-d77c400a1341 button.colab-df-convert');\n",
              "        buttonEl.style.display =\n",
              "          google.colab.kernel.accessAllowed ? 'block' : 'none';\n",
              "\n",
              "        async function convertToInteractive(key) {\n",
              "          const element = document.querySelector('#df-d3c168a9-3400-490e-9825-d77c400a1341');\n",
              "          const dataTable =\n",
              "            await google.colab.kernel.invokeFunction('convertToInteractive',\n",
              "                                                     [key], {});\n",
              "          if (!dataTable) return;\n",
              "\n",
              "          const docLinkHtml = 'Like what you see? Visit the ' +\n",
              "            '<a target=\"_blank\" href=https://colab.research.google.com/notebooks/data_table.ipynb>data table notebook</a>'\n",
              "            + ' to learn more about interactive tables.';\n",
              "          element.innerHTML = '';\n",
              "          dataTable['output_type'] = 'display_data';\n",
              "          await google.colab.output.renderOutput(dataTable, element);\n",
              "          const docLink = document.createElement('div');\n",
              "          docLink.innerHTML = docLinkHtml;\n",
              "          element.appendChild(docLink);\n",
              "        }\n",
              "      </script>\n",
              "    </div>\n",
              "  </div>\n",
              "  "
            ]
          },
          "metadata": {},
          "execution_count": 30
        }
      ]
    },
    {
      "cell_type": "markdown",
      "source": [
        "## **converting values with commas to float**"
      ],
      "metadata": {
        "id": "eefbqbauJJTM"
      }
    },
    {
      "cell_type": "markdown",
      "source": [
        "**Some values contained string values which included commas.so I've converted it to floats**"
      ],
      "metadata": {
        "id": "_pVFrKlvMbce"
      }
    },
    {
      "cell_type": "code",
      "source": [
        "ds['cpuMark'] = ds['cpuMark'].str.replace(',', '').astype(float)"
      ],
      "metadata": {
        "id": "MAlgQL_NJV7q"
      },
      "execution_count": null,
      "outputs": []
    },
    {
      "cell_type": "code",
      "source": [
        "ds['threadMark'] = ds['threadMark'].str.replace(',', '').astype(float)"
      ],
      "metadata": {
        "id": "NBnP-PB5Jx3B"
      },
      "execution_count": null,
      "outputs": []
    },
    {
      "cell_type": "markdown",
      "source": [
        "## **Performing standardization using standard scalar**"
      ],
      "metadata": {
        "id": "Ui8nr8WvNXNU"
      }
    },
    {
      "cell_type": "markdown",
      "source": [
        "Performing stadard scalar on numerical columns"
      ],
      "metadata": {
        "id": "iekEQ3R6Mm3q"
      }
    },
    {
      "cell_type": "code",
      "source": [
        "from sklearn.preprocessing import StandardScaler \n",
        "sc = StandardScaler() \n",
        "cols = ['cores','price','cpuValue','threadValue','TDP','threadValue'] \n",
        "ds[cols] = sc.fit_transform(ds[cols]) "
      ],
      "metadata": {
        "id": "_8X0TdSxNWxl"
      },
      "execution_count": null,
      "outputs": []
    },
    {
      "cell_type": "markdown",
      "source": [
        "checking coloumns"
      ],
      "metadata": {
        "id": "yRlhYLvnQFkC"
      }
    },
    {
      "cell_type": "code",
      "source": [
        "print(ds.iloc[:, [-8,-4]])"
      ],
      "metadata": {
        "colab": {
          "base_uri": "https://localhost:8080/"
        },
        "id": "_9hHrCleQxdR",
        "outputId": "6975ef91-c8f6-4b04-b07e-e6094207852d"
      },
      "execution_count": null,
      "outputs": [
        {
          "output_type": "stream",
          "name": "stdout",
          "text": [
            "      threadMark     cores\n",
            "0         3330.0  9.530717\n",
            "1         2635.0  9.530717\n",
            "2         2387.0  9.530717\n",
            "3         2727.0  9.530717\n",
            "4         2626.0  9.530717\n",
            "...          ...       ...\n",
            "3820       225.0 -0.655177\n",
            "3821       180.0 -0.655177\n",
            "3822       223.0 -0.655177\n",
            "3823        83.0 -0.655177\n",
            "3824       203.0 -0.655177\n",
            "\n",
            "[3825 rows x 2 columns]\n"
          ]
        }
      ]
    },
    {
      "cell_type": "code",
      "source": [
        "X = ds.iloc[:, [-8,-4]].values\n",
        "y = ds.iloc[:, -1].values"
      ],
      "metadata": {
        "id": "TsiZ1THUQF48"
      },
      "execution_count": null,
      "outputs": []
    },
    {
      "cell_type": "markdown",
      "source": [
        ""
      ],
      "metadata": {
        "id": "wz1r8bGTNWf3"
      }
    },
    {
      "cell_type": "code",
      "source": [
        "X"
      ],
      "metadata": {
        "colab": {
          "base_uri": "https://localhost:8080/"
        },
        "id": "3H_s13_YQicF",
        "outputId": "8ddb2c97-60eb-436f-e6e4-a4a264d43dc0"
      },
      "execution_count": null,
      "outputs": [
        {
          "output_type": "execute_result",
          "data": {
            "text/plain": [
              "array([[ 3.33000000e+03,  9.53071696e+00],\n",
              "       [ 2.63500000e+03,  9.53071696e+00],\n",
              "       [ 2.38700000e+03,  9.53071696e+00],\n",
              "       ...,\n",
              "       [ 2.23000000e+02, -6.55177350e-01],\n",
              "       [ 8.30000000e+01, -6.55177350e-01],\n",
              "       [ 2.03000000e+02, -6.55177350e-01]])"
            ]
          },
          "metadata": {},
          "execution_count": 36
        }
      ]
    },
    {
      "cell_type": "markdown",
      "source": [
        "CHecking y dataset"
      ],
      "metadata": {
        "id": "VVOtQPuwMw3w"
      }
    },
    {
      "cell_type": "code",
      "source": [
        "y"
      ],
      "metadata": {
        "colab": {
          "base_uri": "https://localhost:8080/"
        },
        "id": "DXL5eXCWQkpE",
        "outputId": "c6136fb0-4809-491b-f485-5e82e6e49668"
      },
      "execution_count": null,
      "outputs": [
        {
          "output_type": "execute_result",
          "data": {
            "text/plain": [
              "array(['Desktop', 'Server', 'Server', ..., 'Desktop', 'Laptop', 'Desktop'],\n",
              "      dtype=object)"
            ]
          },
          "metadata": {},
          "execution_count": 37
        }
      ]
    },
    {
      "cell_type": "code",
      "source": [
        "from sklearn.preprocessing import LabelEncoder\n",
        "le = LabelEncoder()\n",
        "X[:,0] = le.fit_transform(X[:,0])"
      ],
      "metadata": {
        "id": "mqQb9TaOREde"
      },
      "execution_count": null,
      "outputs": []
    },
    {
      "cell_type": "code",
      "source": [
        "from sklearn.model_selection import train_test_split\n",
        "X_train, X_test, y_train, y_test = train_test_split(X, y, test_size = 0.20, random_state = 0)"
      ],
      "metadata": {
        "id": "LVqLRvCpRP6-"
      },
      "execution_count": null,
      "outputs": []
    },
    {
      "cell_type": "code",
      "source": [
        "from sklearn.preprocessing import StandardScaler\n",
        "sc = StandardScaler()\n",
        "X_train = sc.fit_transform(X_train)\n",
        "X_test = sc.transform(X_test)"
      ],
      "metadata": {
        "id": "1RYGeeWTRZ-1"
      },
      "execution_count": null,
      "outputs": []
    },
    {
      "cell_type": "markdown",
      "source": [
        "## **Using Euclidean**"
      ],
      "metadata": {
        "id": "lcG5_wzgSBVj"
      }
    },
    {
      "cell_type": "markdown",
      "source": [
        "**I've swithced the distance measure to euclidian**"
      ],
      "metadata": {
        "id": "pMOFkQ3PM015"
      }
    },
    {
      "cell_type": "markdown",
      "source": [
        "## **Method 2**"
      ],
      "metadata": {
        "id": "uTEMOsnBcYAZ"
      }
    },
    {
      "cell_type": "markdown",
      "source": [
        "## **Resetting Index**"
      ],
      "metadata": {
        "id": "wib3vopzcaru"
      }
    },
    {
      "cell_type": "code",
      "source": [
        "ds.reset_index(drop=True)"
      ],
      "metadata": {
        "colab": {
          "base_uri": "https://localhost:8080/",
          "height": 424
        },
        "id": "wL2gqnWkgMCN",
        "outputId": "4f10bb15-59ff-410d-e83f-12a36fad7c53"
      },
      "execution_count": null,
      "outputs": [
        {
          "output_type": "execute_result",
          "data": {
            "text/plain": [
              "                                cpuName         price   cpuMark      cpuValue  \\\n",
              "0     AMD Ryzen Threadripper PRO 5995WX -8.737580e-17  108822.0 -2.767485e-16   \n",
              "1                         AMD EPYC 7763  1.054240e+01   88338.0 -9.057528e-01   \n",
              "2                         AMD EPYC 7J13 -8.737580e-17   86006.0 -2.767485e-16   \n",
              "3                         AMD EPYC 7713  1.017350e+01   85861.0 -9.034159e-01   \n",
              "4     AMD Ryzen Threadripper PRO 3995WX  9.786114e+00   83971.0 -8.967946e-01   \n",
              "...                                 ...           ...       ...           ...   \n",
              "3820            Intel Pentium 4 1.60GHz -8.737580e-17      84.0 -2.767485e-16   \n",
              "3821            Intel Pentium 4 1400MHz -8.737580e-17      83.0 -2.767485e-16   \n",
              "3822            Intel Pentium 4 1500MHz -8.737580e-17      81.0 -2.767485e-16   \n",
              "3823                   VIA Eden 1000MHz -8.737580e-17      80.0 -2.767485e-16   \n",
              "3824            Intel Pentium 4 1300MHz -8.737580e-17      77.0 -2.767485e-16   \n",
              "\n",
              "      threadMark   threadValue           TDP powerPerf     cores  testDate  \\\n",
              "0         3330.0  1.383654e-16  5.051619e+00    388.65  9.530717      2022   \n",
              "1         2635.0 -1.155073e+00  5.051619e+00    315.49  9.530717      2021   \n",
              "2         2387.0  1.383654e-16 -3.298702e-16       NaN  9.530717      2021   \n",
              "3         2727.0 -1.152736e+00  3.774928e+00     381.6  9.530717      2021   \n",
              "4         2626.0 -1.152736e+00  5.051619e+00     299.9  9.530717      2020   \n",
              "...          ...           ...           ...       ...       ...       ...   \n",
              "3820       225.0  1.383654e-16 -5.658189e-01      2.22 -0.655177      2009   \n",
              "3821       180.0  1.383654e-16 -1.781693e-01      1.52 -0.655177      2009   \n",
              "3822       223.0  1.383654e-16 -1.062104e-01      1.41 -0.655177      2009   \n",
              "3823        83.0  1.383654e-16 -1.331833e+00     16.08 -0.655177      2017   \n",
              "3824       203.0  1.383654e-16 -2.501282e-01       1.5 -0.655177      2009   \n",
              "\n",
              "        socket category  \n",
              "0        sWRX8  Desktop  \n",
              "1          SP3   Server  \n",
              "2      unknown   Server  \n",
              "3          SP3   Server  \n",
              "4        sWRX8  Desktop  \n",
              "...        ...      ...  \n",
              "3820    PGA478  Desktop  \n",
              "3821    PGA423  Desktop  \n",
              "3822    PGA423  Desktop  \n",
              "3823  NanoBGA2   Laptop  \n",
              "3824    PGA423  Desktop  \n",
              "\n",
              "[3825 rows x 12 columns]"
            ],
            "text/html": [
              "\n",
              "  <div id=\"df-32a87751-5075-4a58-b38d-a5f30f00ecdf\">\n",
              "    <div class=\"colab-df-container\">\n",
              "      <div>\n",
              "<style scoped>\n",
              "    .dataframe tbody tr th:only-of-type {\n",
              "        vertical-align: middle;\n",
              "    }\n",
              "\n",
              "    .dataframe tbody tr th {\n",
              "        vertical-align: top;\n",
              "    }\n",
              "\n",
              "    .dataframe thead th {\n",
              "        text-align: right;\n",
              "    }\n",
              "</style>\n",
              "<table border=\"1\" class=\"dataframe\">\n",
              "  <thead>\n",
              "    <tr style=\"text-align: right;\">\n",
              "      <th></th>\n",
              "      <th>cpuName</th>\n",
              "      <th>price</th>\n",
              "      <th>cpuMark</th>\n",
              "      <th>cpuValue</th>\n",
              "      <th>threadMark</th>\n",
              "      <th>threadValue</th>\n",
              "      <th>TDP</th>\n",
              "      <th>powerPerf</th>\n",
              "      <th>cores</th>\n",
              "      <th>testDate</th>\n",
              "      <th>socket</th>\n",
              "      <th>category</th>\n",
              "    </tr>\n",
              "  </thead>\n",
              "  <tbody>\n",
              "    <tr>\n",
              "      <th>0</th>\n",
              "      <td>AMD Ryzen Threadripper PRO 5995WX</td>\n",
              "      <td>-8.737580e-17</td>\n",
              "      <td>108822.0</td>\n",
              "      <td>-2.767485e-16</td>\n",
              "      <td>3330.0</td>\n",
              "      <td>1.383654e-16</td>\n",
              "      <td>5.051619e+00</td>\n",
              "      <td>388.65</td>\n",
              "      <td>9.530717</td>\n",
              "      <td>2022</td>\n",
              "      <td>sWRX8</td>\n",
              "      <td>Desktop</td>\n",
              "    </tr>\n",
              "    <tr>\n",
              "      <th>1</th>\n",
              "      <td>AMD EPYC 7763</td>\n",
              "      <td>1.054240e+01</td>\n",
              "      <td>88338.0</td>\n",
              "      <td>-9.057528e-01</td>\n",
              "      <td>2635.0</td>\n",
              "      <td>-1.155073e+00</td>\n",
              "      <td>5.051619e+00</td>\n",
              "      <td>315.49</td>\n",
              "      <td>9.530717</td>\n",
              "      <td>2021</td>\n",
              "      <td>SP3</td>\n",
              "      <td>Server</td>\n",
              "    </tr>\n",
              "    <tr>\n",
              "      <th>2</th>\n",
              "      <td>AMD EPYC 7J13</td>\n",
              "      <td>-8.737580e-17</td>\n",
              "      <td>86006.0</td>\n",
              "      <td>-2.767485e-16</td>\n",
              "      <td>2387.0</td>\n",
              "      <td>1.383654e-16</td>\n",
              "      <td>-3.298702e-16</td>\n",
              "      <td>NaN</td>\n",
              "      <td>9.530717</td>\n",
              "      <td>2021</td>\n",
              "      <td>unknown</td>\n",
              "      <td>Server</td>\n",
              "    </tr>\n",
              "    <tr>\n",
              "      <th>3</th>\n",
              "      <td>AMD EPYC 7713</td>\n",
              "      <td>1.017350e+01</td>\n",
              "      <td>85861.0</td>\n",
              "      <td>-9.034159e-01</td>\n",
              "      <td>2727.0</td>\n",
              "      <td>-1.152736e+00</td>\n",
              "      <td>3.774928e+00</td>\n",
              "      <td>381.6</td>\n",
              "      <td>9.530717</td>\n",
              "      <td>2021</td>\n",
              "      <td>SP3</td>\n",
              "      <td>Server</td>\n",
              "    </tr>\n",
              "    <tr>\n",
              "      <th>4</th>\n",
              "      <td>AMD Ryzen Threadripper PRO 3995WX</td>\n",
              "      <td>9.786114e+00</td>\n",
              "      <td>83971.0</td>\n",
              "      <td>-8.967946e-01</td>\n",
              "      <td>2626.0</td>\n",
              "      <td>-1.152736e+00</td>\n",
              "      <td>5.051619e+00</td>\n",
              "      <td>299.9</td>\n",
              "      <td>9.530717</td>\n",
              "      <td>2020</td>\n",
              "      <td>sWRX8</td>\n",
              "      <td>Desktop</td>\n",
              "    </tr>\n",
              "    <tr>\n",
              "      <th>...</th>\n",
              "      <td>...</td>\n",
              "      <td>...</td>\n",
              "      <td>...</td>\n",
              "      <td>...</td>\n",
              "      <td>...</td>\n",
              "      <td>...</td>\n",
              "      <td>...</td>\n",
              "      <td>...</td>\n",
              "      <td>...</td>\n",
              "      <td>...</td>\n",
              "      <td>...</td>\n",
              "      <td>...</td>\n",
              "    </tr>\n",
              "    <tr>\n",
              "      <th>3820</th>\n",
              "      <td>Intel Pentium 4 1.60GHz</td>\n",
              "      <td>-8.737580e-17</td>\n",
              "      <td>84.0</td>\n",
              "      <td>-2.767485e-16</td>\n",
              "      <td>225.0</td>\n",
              "      <td>1.383654e-16</td>\n",
              "      <td>-5.658189e-01</td>\n",
              "      <td>2.22</td>\n",
              "      <td>-0.655177</td>\n",
              "      <td>2009</td>\n",
              "      <td>PGA478</td>\n",
              "      <td>Desktop</td>\n",
              "    </tr>\n",
              "    <tr>\n",
              "      <th>3821</th>\n",
              "      <td>Intel Pentium 4 1400MHz</td>\n",
              "      <td>-8.737580e-17</td>\n",
              "      <td>83.0</td>\n",
              "      <td>-2.767485e-16</td>\n",
              "      <td>180.0</td>\n",
              "      <td>1.383654e-16</td>\n",
              "      <td>-1.781693e-01</td>\n",
              "      <td>1.52</td>\n",
              "      <td>-0.655177</td>\n",
              "      <td>2009</td>\n",
              "      <td>PGA423</td>\n",
              "      <td>Desktop</td>\n",
              "    </tr>\n",
              "    <tr>\n",
              "      <th>3822</th>\n",
              "      <td>Intel Pentium 4 1500MHz</td>\n",
              "      <td>-8.737580e-17</td>\n",
              "      <td>81.0</td>\n",
              "      <td>-2.767485e-16</td>\n",
              "      <td>223.0</td>\n",
              "      <td>1.383654e-16</td>\n",
              "      <td>-1.062104e-01</td>\n",
              "      <td>1.41</td>\n",
              "      <td>-0.655177</td>\n",
              "      <td>2009</td>\n",
              "      <td>PGA423</td>\n",
              "      <td>Desktop</td>\n",
              "    </tr>\n",
              "    <tr>\n",
              "      <th>3823</th>\n",
              "      <td>VIA Eden 1000MHz</td>\n",
              "      <td>-8.737580e-17</td>\n",
              "      <td>80.0</td>\n",
              "      <td>-2.767485e-16</td>\n",
              "      <td>83.0</td>\n",
              "      <td>1.383654e-16</td>\n",
              "      <td>-1.331833e+00</td>\n",
              "      <td>16.08</td>\n",
              "      <td>-0.655177</td>\n",
              "      <td>2017</td>\n",
              "      <td>NanoBGA2</td>\n",
              "      <td>Laptop</td>\n",
              "    </tr>\n",
              "    <tr>\n",
              "      <th>3824</th>\n",
              "      <td>Intel Pentium 4 1300MHz</td>\n",
              "      <td>-8.737580e-17</td>\n",
              "      <td>77.0</td>\n",
              "      <td>-2.767485e-16</td>\n",
              "      <td>203.0</td>\n",
              "      <td>1.383654e-16</td>\n",
              "      <td>-2.501282e-01</td>\n",
              "      <td>1.5</td>\n",
              "      <td>-0.655177</td>\n",
              "      <td>2009</td>\n",
              "      <td>PGA423</td>\n",
              "      <td>Desktop</td>\n",
              "    </tr>\n",
              "  </tbody>\n",
              "</table>\n",
              "<p>3825 rows × 12 columns</p>\n",
              "</div>\n",
              "      <button class=\"colab-df-convert\" onclick=\"convertToInteractive('df-32a87751-5075-4a58-b38d-a5f30f00ecdf')\"\n",
              "              title=\"Convert this dataframe to an interactive table.\"\n",
              "              style=\"display:none;\">\n",
              "        \n",
              "  <svg xmlns=\"http://www.w3.org/2000/svg\" height=\"24px\"viewBox=\"0 0 24 24\"\n",
              "       width=\"24px\">\n",
              "    <path d=\"M0 0h24v24H0V0z\" fill=\"none\"/>\n",
              "    <path d=\"M18.56 5.44l.94 2.06.94-2.06 2.06-.94-2.06-.94-.94-2.06-.94 2.06-2.06.94zm-11 1L8.5 8.5l.94-2.06 2.06-.94-2.06-.94L8.5 2.5l-.94 2.06-2.06.94zm10 10l.94 2.06.94-2.06 2.06-.94-2.06-.94-.94-2.06-.94 2.06-2.06.94z\"/><path d=\"M17.41 7.96l-1.37-1.37c-.4-.4-.92-.59-1.43-.59-.52 0-1.04.2-1.43.59L10.3 9.45l-7.72 7.72c-.78.78-.78 2.05 0 2.83L4 21.41c.39.39.9.59 1.41.59.51 0 1.02-.2 1.41-.59l7.78-7.78 2.81-2.81c.8-.78.8-2.07 0-2.86zM5.41 20L4 18.59l7.72-7.72 1.47 1.35L5.41 20z\"/>\n",
              "  </svg>\n",
              "      </button>\n",
              "      \n",
              "  <style>\n",
              "    .colab-df-container {\n",
              "      display:flex;\n",
              "      flex-wrap:wrap;\n",
              "      gap: 12px;\n",
              "    }\n",
              "\n",
              "    .colab-df-convert {\n",
              "      background-color: #E8F0FE;\n",
              "      border: none;\n",
              "      border-radius: 50%;\n",
              "      cursor: pointer;\n",
              "      display: none;\n",
              "      fill: #1967D2;\n",
              "      height: 32px;\n",
              "      padding: 0 0 0 0;\n",
              "      width: 32px;\n",
              "    }\n",
              "\n",
              "    .colab-df-convert:hover {\n",
              "      background-color: #E2EBFA;\n",
              "      box-shadow: 0px 1px 2px rgba(60, 64, 67, 0.3), 0px 1px 3px 1px rgba(60, 64, 67, 0.15);\n",
              "      fill: #174EA6;\n",
              "    }\n",
              "\n",
              "    [theme=dark] .colab-df-convert {\n",
              "      background-color: #3B4455;\n",
              "      fill: #D2E3FC;\n",
              "    }\n",
              "\n",
              "    [theme=dark] .colab-df-convert:hover {\n",
              "      background-color: #434B5C;\n",
              "      box-shadow: 0px 1px 3px 1px rgba(0, 0, 0, 0.15);\n",
              "      filter: drop-shadow(0px 1px 2px rgba(0, 0, 0, 0.3));\n",
              "      fill: #FFFFFF;\n",
              "    }\n",
              "  </style>\n",
              "\n",
              "      <script>\n",
              "        const buttonEl =\n",
              "          document.querySelector('#df-32a87751-5075-4a58-b38d-a5f30f00ecdf button.colab-df-convert');\n",
              "        buttonEl.style.display =\n",
              "          google.colab.kernel.accessAllowed ? 'block' : 'none';\n",
              "\n",
              "        async function convertToInteractive(key) {\n",
              "          const element = document.querySelector('#df-32a87751-5075-4a58-b38d-a5f30f00ecdf');\n",
              "          const dataTable =\n",
              "            await google.colab.kernel.invokeFunction('convertToInteractive',\n",
              "                                                     [key], {});\n",
              "          if (!dataTable) return;\n",
              "\n",
              "          const docLinkHtml = 'Like what you see? Visit the ' +\n",
              "            '<a target=\"_blank\" href=https://colab.research.google.com/notebooks/data_table.ipynb>data table notebook</a>'\n",
              "            + ' to learn more about interactive tables.';\n",
              "          element.innerHTML = '';\n",
              "          dataTable['output_type'] = 'display_data';\n",
              "          await google.colab.output.renderOutput(dataTable, element);\n",
              "          const docLink = document.createElement('div');\n",
              "          docLink.innerHTML = docLinkHtml;\n",
              "          element.appendChild(docLink);\n",
              "        }\n",
              "      </script>\n",
              "    </div>\n",
              "  </div>\n",
              "  "
            ]
          },
          "metadata": {},
          "execution_count": 41
        }
      ]
    },
    {
      "cell_type": "markdown",
      "source": [
        "## **Testing category against threadMark and cores**"
      ],
      "metadata": {
        "id": "n080AVrLchJg"
      }
    },
    {
      "cell_type": "code",
      "source": [
        "ds.iloc[:, [-8,-4]]"
      ],
      "metadata": {
        "colab": {
          "base_uri": "https://localhost:8080/",
          "height": 424
        },
        "id": "F-cn15VHcehh",
        "outputId": "03ea1dda-96ce-4211-cf19-0cf0b07f17d9"
      },
      "execution_count": null,
      "outputs": [
        {
          "output_type": "execute_result",
          "data": {
            "text/plain": [
              "      threadMark     cores\n",
              "0         3330.0  9.530717\n",
              "1         2635.0  9.530717\n",
              "2         2387.0  9.530717\n",
              "3         2727.0  9.530717\n",
              "4         2626.0  9.530717\n",
              "...          ...       ...\n",
              "3820       225.0 -0.655177\n",
              "3821       180.0 -0.655177\n",
              "3822       223.0 -0.655177\n",
              "3823        83.0 -0.655177\n",
              "3824       203.0 -0.655177\n",
              "\n",
              "[3825 rows x 2 columns]"
            ],
            "text/html": [
              "\n",
              "  <div id=\"df-a04b0bec-5c1d-4daf-961c-ec22e0700273\">\n",
              "    <div class=\"colab-df-container\">\n",
              "      <div>\n",
              "<style scoped>\n",
              "    .dataframe tbody tr th:only-of-type {\n",
              "        vertical-align: middle;\n",
              "    }\n",
              "\n",
              "    .dataframe tbody tr th {\n",
              "        vertical-align: top;\n",
              "    }\n",
              "\n",
              "    .dataframe thead th {\n",
              "        text-align: right;\n",
              "    }\n",
              "</style>\n",
              "<table border=\"1\" class=\"dataframe\">\n",
              "  <thead>\n",
              "    <tr style=\"text-align: right;\">\n",
              "      <th></th>\n",
              "      <th>threadMark</th>\n",
              "      <th>cores</th>\n",
              "    </tr>\n",
              "  </thead>\n",
              "  <tbody>\n",
              "    <tr>\n",
              "      <th>0</th>\n",
              "      <td>3330.0</td>\n",
              "      <td>9.530717</td>\n",
              "    </tr>\n",
              "    <tr>\n",
              "      <th>1</th>\n",
              "      <td>2635.0</td>\n",
              "      <td>9.530717</td>\n",
              "    </tr>\n",
              "    <tr>\n",
              "      <th>2</th>\n",
              "      <td>2387.0</td>\n",
              "      <td>9.530717</td>\n",
              "    </tr>\n",
              "    <tr>\n",
              "      <th>3</th>\n",
              "      <td>2727.0</td>\n",
              "      <td>9.530717</td>\n",
              "    </tr>\n",
              "    <tr>\n",
              "      <th>4</th>\n",
              "      <td>2626.0</td>\n",
              "      <td>9.530717</td>\n",
              "    </tr>\n",
              "    <tr>\n",
              "      <th>...</th>\n",
              "      <td>...</td>\n",
              "      <td>...</td>\n",
              "    </tr>\n",
              "    <tr>\n",
              "      <th>3820</th>\n",
              "      <td>225.0</td>\n",
              "      <td>-0.655177</td>\n",
              "    </tr>\n",
              "    <tr>\n",
              "      <th>3821</th>\n",
              "      <td>180.0</td>\n",
              "      <td>-0.655177</td>\n",
              "    </tr>\n",
              "    <tr>\n",
              "      <th>3822</th>\n",
              "      <td>223.0</td>\n",
              "      <td>-0.655177</td>\n",
              "    </tr>\n",
              "    <tr>\n",
              "      <th>3823</th>\n",
              "      <td>83.0</td>\n",
              "      <td>-0.655177</td>\n",
              "    </tr>\n",
              "    <tr>\n",
              "      <th>3824</th>\n",
              "      <td>203.0</td>\n",
              "      <td>-0.655177</td>\n",
              "    </tr>\n",
              "  </tbody>\n",
              "</table>\n",
              "<p>3825 rows × 2 columns</p>\n",
              "</div>\n",
              "      <button class=\"colab-df-convert\" onclick=\"convertToInteractive('df-a04b0bec-5c1d-4daf-961c-ec22e0700273')\"\n",
              "              title=\"Convert this dataframe to an interactive table.\"\n",
              "              style=\"display:none;\">\n",
              "        \n",
              "  <svg xmlns=\"http://www.w3.org/2000/svg\" height=\"24px\"viewBox=\"0 0 24 24\"\n",
              "       width=\"24px\">\n",
              "    <path d=\"M0 0h24v24H0V0z\" fill=\"none\"/>\n",
              "    <path d=\"M18.56 5.44l.94 2.06.94-2.06 2.06-.94-2.06-.94-.94-2.06-.94 2.06-2.06.94zm-11 1L8.5 8.5l.94-2.06 2.06-.94-2.06-.94L8.5 2.5l-.94 2.06-2.06.94zm10 10l.94 2.06.94-2.06 2.06-.94-2.06-.94-.94-2.06-.94 2.06-2.06.94z\"/><path d=\"M17.41 7.96l-1.37-1.37c-.4-.4-.92-.59-1.43-.59-.52 0-1.04.2-1.43.59L10.3 9.45l-7.72 7.72c-.78.78-.78 2.05 0 2.83L4 21.41c.39.39.9.59 1.41.59.51 0 1.02-.2 1.41-.59l7.78-7.78 2.81-2.81c.8-.78.8-2.07 0-2.86zM5.41 20L4 18.59l7.72-7.72 1.47 1.35L5.41 20z\"/>\n",
              "  </svg>\n",
              "      </button>\n",
              "      \n",
              "  <style>\n",
              "    .colab-df-container {\n",
              "      display:flex;\n",
              "      flex-wrap:wrap;\n",
              "      gap: 12px;\n",
              "    }\n",
              "\n",
              "    .colab-df-convert {\n",
              "      background-color: #E8F0FE;\n",
              "      border: none;\n",
              "      border-radius: 50%;\n",
              "      cursor: pointer;\n",
              "      display: none;\n",
              "      fill: #1967D2;\n",
              "      height: 32px;\n",
              "      padding: 0 0 0 0;\n",
              "      width: 32px;\n",
              "    }\n",
              "\n",
              "    .colab-df-convert:hover {\n",
              "      background-color: #E2EBFA;\n",
              "      box-shadow: 0px 1px 2px rgba(60, 64, 67, 0.3), 0px 1px 3px 1px rgba(60, 64, 67, 0.15);\n",
              "      fill: #174EA6;\n",
              "    }\n",
              "\n",
              "    [theme=dark] .colab-df-convert {\n",
              "      background-color: #3B4455;\n",
              "      fill: #D2E3FC;\n",
              "    }\n",
              "\n",
              "    [theme=dark] .colab-df-convert:hover {\n",
              "      background-color: #434B5C;\n",
              "      box-shadow: 0px 1px 3px 1px rgba(0, 0, 0, 0.15);\n",
              "      filter: drop-shadow(0px 1px 2px rgba(0, 0, 0, 0.3));\n",
              "      fill: #FFFFFF;\n",
              "    }\n",
              "  </style>\n",
              "\n",
              "      <script>\n",
              "        const buttonEl =\n",
              "          document.querySelector('#df-a04b0bec-5c1d-4daf-961c-ec22e0700273 button.colab-df-convert');\n",
              "        buttonEl.style.display =\n",
              "          google.colab.kernel.accessAllowed ? 'block' : 'none';\n",
              "\n",
              "        async function convertToInteractive(key) {\n",
              "          const element = document.querySelector('#df-a04b0bec-5c1d-4daf-961c-ec22e0700273');\n",
              "          const dataTable =\n",
              "            await google.colab.kernel.invokeFunction('convertToInteractive',\n",
              "                                                     [key], {});\n",
              "          if (!dataTable) return;\n",
              "\n",
              "          const docLinkHtml = 'Like what you see? Visit the ' +\n",
              "            '<a target=\"_blank\" href=https://colab.research.google.com/notebooks/data_table.ipynb>data table notebook</a>'\n",
              "            + ' to learn more about interactive tables.';\n",
              "          element.innerHTML = '';\n",
              "          dataTable['output_type'] = 'display_data';\n",
              "          await google.colab.output.renderOutput(dataTable, element);\n",
              "          const docLink = document.createElement('div');\n",
              "          docLink.innerHTML = docLinkHtml;\n",
              "          element.appendChild(docLink);\n",
              "        }\n",
              "      </script>\n",
              "    </div>\n",
              "  </div>\n",
              "  "
            ]
          },
          "metadata": {},
          "execution_count": 42
        }
      ]
    },
    {
      "cell_type": "markdown",
      "source": [
        "**In this i've splitted the total dataset into testing and training dataset**"
      ],
      "metadata": {
        "id": "z_OdiO58Omxo"
      }
    },
    {
      "cell_type": "code",
      "source": [
        "# Import necessary modules \n",
        "import pandas as pd\n",
        "import matplotlib.pyplot as plt\n",
        "import numpy as np\n",
        "from sklearn.neighbors import KNeighborsClassifier \n",
        "from sklearn.model_selection import train_test_split  \n",
        "from sklearn.datasets import make_classification\n",
        "from sklearn.metrics import plot_confusion_matrix\n",
        "from sklearn.model_selection import train_test_split\n",
        "from sklearn.svm import SVC\n",
        "\n",
        "iris = ds\n",
        "#Drop id column\n",
        "\n",
        "#setting matric\n",
        "metriclist=[\"euclidean\",\"manhattan\",\"minkowski\"]\n",
        "X = ds.iloc[:, [-8,-4]].values\n",
        "y = ds.iloc[:, -1].values\n",
        "\n",
        "#testing with all measures\n",
        "for b in range(0,3):\n",
        "  #Split arrays or matrices into train and test subsets\n",
        "  X_train, X_test, y_train, y_test = train_test_split(X, y, test_size=0.20) \n",
        "  knn = KNeighborsClassifier(n_neighbors=6,metric=metriclist[b])\n",
        "  knn.fit(X_train,y_train)\n",
        "\n",
        "  print(\"Preliminary model score:\")\n",
        "  print(knn.score(X_test,y_test))\n",
        "\n",
        "  no_neighbors = np.arange(1, 9)\n",
        "  train_accuracy = np.empty(len(no_neighbors))\n",
        "  test_accuracy = np.empty(len(no_neighbors))\n",
        "\n",
        "  for i, k in enumerate(no_neighbors):\n",
        "      # We instantiate the classifier\n",
        "      knn = KNeighborsClassifier(n_neighbors=k)\n",
        "      # Fit the classifier to the training data\n",
        "      knn.fit(X_train,y_train)\n",
        "      \n",
        "      # Compute accuracy on the training set\n",
        "      train_accuracy[i] = knn.score(X_train, y_train)\n",
        "\n",
        "      # Compute accuracy on the testing set\n",
        "      test_accuracy[i] = knn.score(X_test, y_test)\n",
        "\n",
        "  # Visualization of k values vs accuracy\n",
        "\n",
        "  plt.title('k-NN: Varying Number of Neighbors')\n",
        "  plt.plot(no_neighbors, test_accuracy, label = 'Testing Accuracy')\n",
        "  plt.plot(no_neighbors, train_accuracy, label = 'Training Accuracy')\n",
        "  plt.legend()\n",
        "  plt.xlabel('Number of Neighbors')\n",
        "  plt.ylabel('Accuracy')\n",
        "  plt.show()\n",
        "\n",
        "  X, y = make_classification(random_state=0)\n",
        "  X_train, X_test, y_train, y_test = train_test_split(X, y, random_state=0)\n",
        "  clf = SVC(random_state=0)\n",
        "  clf.fit(X_train, y_train)\n",
        "  SVC(random_state=0)\n",
        "  plot_confusion_matrix(clf, X_test, y_test)  \n",
        "  plt.show()\n",
        "\n",
        "\n"
      ],
      "metadata": {
        "colab": {
          "base_uri": "https://localhost:8080/",
          "height": 1000
        },
        "id": "ueHwXCH9WXBn",
        "outputId": "85cb1976-c58e-4595-aace-f03c05089450"
      },
      "execution_count": null,
      "outputs": [
        {
          "output_type": "stream",
          "name": "stdout",
          "text": [
            "Preliminary model score:\n",
            "0.35294117647058826\n"
          ]
        },
        {
          "output_type": "display_data",
          "data": {
            "text/plain": [
              "<Figure size 432x288 with 1 Axes>"
            ],
            "image/png": "[encoded data removed]"
          },
          "metadata": {
            "needs_background": "light"
          }
        },
        {
          "output_type": "stream",
          "name": "stderr",
          "text": [
            "/usr/local/lib/python3.7/dist-packages/sklearn/utils/deprecation.py:87: FutureWarning: Function plot_confusion_matrix is deprecated; Function `plot_confusion_matrix` is deprecated in 1.0 and will be removed in 1.2. Use one of the class methods: ConfusionMatrixDisplay.from_predictions or ConfusionMatrixDisplay.from_estimator.\n",
            "  warnings.warn(msg, category=FutureWarning)\n"
          ]
        },
        {
          "output_type": "display_data",
          "data": {
            "text/plain": [
              "<Figure size 432x288 with 2 Axes>"
            ],
            "image/png": "[encoded data removed]"
          },
          "metadata": {
            "needs_background": "light"
          }
        },
        {
          "output_type": "stream",
          "name": "stdout",
          "text": [
            "Preliminary model score:\n",
            "0.85\n"
          ]
        },
        {
          "output_type": "display_data",
          "data": {
            "text/plain": [
              "<Figure size 432x288 with 1 Axes>"
            ],
            "image/png": "[encoded data removed]"
          },
          "metadata": {
            "needs_background": "light"
          }
        },
        {
          "output_type": "stream",
          "name": "stderr",
          "text": [
            "/usr/local/lib/python3.7/dist-packages/sklearn/utils/deprecation.py:87: FutureWarning: Function plot_confusion_matrix is deprecated; Function `plot_confusion_matrix` is deprecated in 1.0 and will be removed in 1.2. Use one of the class methods: ConfusionMatrixDisplay.from_predictions or ConfusionMatrixDisplay.from_estimator.\n",
            "  warnings.warn(msg, category=FutureWarning)\n"
          ]
        },
        {
          "output_type": "display_data",
          "data": {
            "text/plain": [
              "<Figure size 432x288 with 2 Axes>"
            ],
            "image/png": "[encoded data removed]"
          },
          "metadata": {
            "needs_background": "light"
          }
        },
        {
          "output_type": "stream",
          "name": "stdout",
          "text": [
            "Preliminary model score:\n",
            "0.8\n"
          ]
        },
        {
          "output_type": "display_data",
          "data": {
            "text/plain": [
              "<Figure size 432x288 with 1 Axes>"
            ],
            "image/png": "[encoded data removed]"
          },
          "metadata": {
            "needs_background": "light"
          }
        },
        {
          "output_type": "stream",
          "name": "stderr",
          "text": [
            "/usr/local/lib/python3.7/dist-packages/sklearn/utils/deprecation.py:87: FutureWarning: Function plot_confusion_matrix is deprecated; Function `plot_confusion_matrix` is deprecated in 1.0 and will be removed in 1.2. Use one of the class methods: ConfusionMatrixDisplay.from_predictions or ConfusionMatrixDisplay.from_estimator.\n",
            "  warnings.warn(msg, category=FutureWarning)\n"
          ]
        },
        {
          "output_type": "display_data",
          "data": {
            "text/plain": [
              "<Figure size 432x288 with 2 Axes>"
            ],
            "image/png": "[encoded data removed]"
          },
          "metadata": {
            "needs_background": "light"
          }
        }
      ]
    },
    {
      "cell_type": "markdown",
      "source": [
        "**In this dataset we can see that 12 of the data is corrected predicted ,and 10 is correctly predicted as wrong. we can also see the testing and training accuracy graph**"
      ],
      "metadata": {
        "id": "Lh2NlXV9PBIy"
      }
    },
    {
      "cell_type": "markdown",
      "source": [
        "## **Testing against cpuMark and price**"
      ],
      "metadata": {
        "id": "gb8WLRpac2AK"
      }
    },
    {
      "cell_type": "code",
      "source": [
        "print(ds.iloc[:, [-10,-11]])"
      ],
      "metadata": {
        "colab": {
          "base_uri": "https://localhost:8080/"
        },
        "id": "QxCzAOo_bHA3",
        "outputId": "af4853d0-3d4e-4898-ebbc-ee826df2b93d"
      },
      "execution_count": null,
      "outputs": [
        {
          "output_type": "stream",
          "name": "stdout",
          "text": [
            "       cpuMark         price\n",
            "0     108822.0 -8.737580e-17\n",
            "1      88338.0  1.054240e+01\n",
            "2      86006.0 -8.737580e-17\n",
            "3      85861.0  1.017350e+01\n",
            "4      83971.0  9.786114e+00\n",
            "...        ...           ...\n",
            "3820      84.0 -8.737580e-17\n",
            "3821      83.0 -8.737580e-17\n",
            "3822      81.0 -8.737580e-17\n",
            "3823      80.0 -8.737580e-17\n",
            "3824      77.0 -8.737580e-17\n",
            "\n",
            "[3825 rows x 2 columns]\n"
          ]
        }
      ]
    },
    {
      "cell_type": "code",
      "source": [
        "# Import necessary modules \n",
        "import pandas as pd\n",
        "import matplotlib.pyplot as plt\n",
        "import numpy as np\n",
        "from sklearn.neighbors import KNeighborsClassifier \n",
        "from sklearn.model_selection import train_test_split  \n",
        "from sklearn.datasets import make_classification\n",
        "from sklearn.metrics import plot_confusion_matrix\n",
        "from sklearn.model_selection import train_test_split\n",
        "from sklearn.svm import SVC\n",
        "\n",
        "iris = ds\n",
        "#Drop id column\n",
        "\n",
        "#setting matric\n",
        "metriclist=[\"euclidean\",\"manhattan\",\"minkowski\"]\n",
        "X = ds.iloc[:, [-10,-4]].values\n",
        "y = ds.iloc[:, -1].values\n",
        "\n",
        "#testing with all measures\n",
        "for b in range(0,3):\n",
        "  #Split arrays or matrices into train and test subsets\n",
        "  X_train, X_test, y_train, y_test = train_test_split(X, y, test_size=0.20) \n",
        "  knn = KNeighborsClassifier(n_neighbors=6,metric=metriclist[b])\n",
        "  knn.fit(X_train,y_train)\n",
        "\n",
        "  print(\"Preliminary model score:\")\n",
        "  print(knn.score(X_test,y_test))\n",
        "\n",
        "  no_neighbors = np.arange(1, 9)\n",
        "  train_accuracy = np.empty(len(no_neighbors))\n",
        "  test_accuracy = np.empty(len(no_neighbors))\n",
        "\n",
        "  for i, k in enumerate(no_neighbors):\n",
        "      # We instantiate the classifier\n",
        "      knn = KNeighborsClassifier(n_neighbors=k)\n",
        "      # Fit the classifier to the training data\n",
        "      knn.fit(X_train,y_train)\n",
        "      \n",
        "      # Compute accuracy on the training set\n",
        "      train_accuracy[i] = knn.score(X_train, y_train)\n",
        "\n",
        "      # Compute accuracy on the testing set\n",
        "      test_accuracy[i] = knn.score(X_test, y_test)\n",
        "\n",
        "  # Visualization of k values vs accuracy\n",
        "\n",
        "  plt.title('k-NN: Varying Number of Neighbors')\n",
        "  plt.plot(no_neighbors, test_accuracy, label = 'Testing Accuracy')\n",
        "  plt.plot(no_neighbors, train_accuracy, label = 'Training Accuracy')\n",
        "  plt.legend()\n",
        "  plt.xlabel('Number of Neighbors')\n",
        "  plt.ylabel('Accuracy')\n",
        "  plt.show()\n",
        "\n",
        "  X, y = make_classification(random_state=0)\n",
        "  X_train, X_test, y_train, y_test = train_test_split(X, y, random_state=0)\n",
        "  clf = SVC(random_state=0)\n",
        "  clf.fit(X_train, y_train)\n",
        "  SVC(random_state=0)\n",
        "  plot_confusion_matrix(clf, X_test, y_test)  \n",
        "  plt.show()\n",
        "\n",
        "\n"
      ],
      "metadata": {
        "colab": {
          "base_uri": "https://localhost:8080/",
          "height": 1000
        },
        "id": "kjX43Q3JWjJ7",
        "outputId": "4c52dd75-ba7a-4712-9d22-bb9cdcea414b"
      },
      "execution_count": null,
      "outputs": [
        {
          "output_type": "stream",
          "name": "stdout",
          "text": [
            "Preliminary model score:\n",
            "0.3869281045751634\n"
          ]
        },
        {
          "output_type": "display_data",
          "data": {
            "text/plain": [
              "<Figure size 432x288 with 1 Axes>"
            ],
            "image/png": "[encoded data removed]"
          },
          "metadata": {
            "needs_background": "light"
          }
        },
        {
          "output_type": "stream",
          "name": "stderr",
          "text": [
            "/usr/local/lib/python3.7/dist-packages/sklearn/utils/deprecation.py:87: FutureWarning: Function plot_confusion_matrix is deprecated; Function `plot_confusion_matrix` is deprecated in 1.0 and will be removed in 1.2. Use one of the class methods: ConfusionMatrixDisplay.from_predictions or ConfusionMatrixDisplay.from_estimator.\n",
            "  warnings.warn(msg, category=FutureWarning)\n"
          ]
        },
        {
          "output_type": "display_data",
          "data": {
            "text/plain": [
              "<Figure size 432x288 with 2 Axes>"
            ],
            "image/png": "[encoded data removed]"
          },
          "metadata": {
            "needs_background": "light"
          }
        },
        {
          "output_type": "stream",
          "name": "stdout",
          "text": [
            "Preliminary model score:\n",
            "0.7\n"
          ]
        },
        {
          "output_type": "display_data",
          "data": {
            "text/plain": [
              "<Figure size 432x288 with 1 Axes>"
            ],
            "image/png": "[encoded data removed]"
          },
          "metadata": {
            "needs_background": "light"
          }
        },
        {
          "output_type": "stream",
          "name": "stderr",
          "text": [
            "/usr/local/lib/python3.7/dist-packages/sklearn/utils/deprecation.py:87: FutureWarning: Function plot_confusion_matrix is deprecated; Function `plot_confusion_matrix` is deprecated in 1.0 and will be removed in 1.2. Use one of the class methods: ConfusionMatrixDisplay.from_predictions or ConfusionMatrixDisplay.from_estimator.\n",
            "  warnings.warn(msg, category=FutureWarning)\n"
          ]
        },
        {
          "output_type": "display_data",
          "data": {
            "text/plain": [
              "<Figure size 432x288 with 2 Axes>"
            ],
            "image/png": "[encoded data removed]"
          },
          "metadata": {
            "needs_background": "light"
          }
        },
        {
          "output_type": "stream",
          "name": "stdout",
          "text": [
            "Preliminary model score:\n",
            "0.55\n"
          ]
        },
        {
          "output_type": "display_data",
          "data": {
            "text/plain": [
              "<Figure size 432x288 with 1 Axes>"
            ],
            "image/png": "[encoded data removed]"
          },
          "metadata": {
            "needs_background": "light"
          }
        },
        {
          "output_type": "stream",
          "name": "stderr",
          "text": [
            "/usr/local/lib/python3.7/dist-packages/sklearn/utils/deprecation.py:87: FutureWarning: Function plot_confusion_matrix is deprecated; Function `plot_confusion_matrix` is deprecated in 1.0 and will be removed in 1.2. Use one of the class methods: ConfusionMatrixDisplay.from_predictions or ConfusionMatrixDisplay.from_estimator.\n",
            "  warnings.warn(msg, category=FutureWarning)\n"
          ]
        },
        {
          "output_type": "display_data",
          "data": {
            "text/plain": [
              "<Figure size 432x288 with 2 Axes>"
            ],
            "image/png": "[encoded data removed]"
          },
          "metadata": {
            "needs_background": "light"
          }
        }
      ]
    },
    {
      "cell_type": "markdown",
      "source": [
        "## **Testing agisnt cpuMark and cores**"
      ],
      "metadata": {
        "id": "9WKvZzDgdH7Q"
      }
    },
    {
      "cell_type": "code",
      "source": [
        "ds.iloc[:, [-10,-4]]"
      ],
      "metadata": {
        "colab": {
          "base_uri": "https://localhost:8080/",
          "height": 424
        },
        "id": "h6oItSdxWcTo",
        "outputId": "eaac0858-7b37-4047-d771-da9800323e16"
      },
      "execution_count": null,
      "outputs": [
        {
          "output_type": "execute_result",
          "data": {
            "text/plain": [
              "       cpuMark     cores\n",
              "0     108822.0  9.530717\n",
              "1      88338.0  9.530717\n",
              "2      86006.0  9.530717\n",
              "3      85861.0  9.530717\n",
              "4      83971.0  9.530717\n",
              "...        ...       ...\n",
              "3820      84.0 -0.655177\n",
              "3821      83.0 -0.655177\n",
              "3822      81.0 -0.655177\n",
              "3823      80.0 -0.655177\n",
              "3824      77.0 -0.655177\n",
              "\n",
              "[3825 rows x 2 columns]"
            ],
            "text/html": [
              "\n",
              "  <div id=\"df-134bf2f4-51f3-4804-9e6c-5489052d2276\">\n",
              "    <div class=\"colab-df-container\">\n",
              "      <div>\n",
              "<style scoped>\n",
              "    .dataframe tbody tr th:only-of-type {\n",
              "        vertical-align: middle;\n",
              "    }\n",
              "\n",
              "    .dataframe tbody tr th {\n",
              "        vertical-align: top;\n",
              "    }\n",
              "\n",
              "    .dataframe thead th {\n",
              "        text-align: right;\n",
              "    }\n",
              "</style>\n",
              "<table border=\"1\" class=\"dataframe\">\n",
              "  <thead>\n",
              "    <tr style=\"text-align: right;\">\n",
              "      <th></th>\n",
              "      <th>cpuMark</th>\n",
              "      <th>cores</th>\n",
              "    </tr>\n",
              "  </thead>\n",
              "  <tbody>\n",
              "    <tr>\n",
              "      <th>0</th>\n",
              "      <td>108822.0</td>\n",
              "      <td>9.530717</td>\n",
              "    </tr>\n",
              "    <tr>\n",
              "      <th>1</th>\n",
              "      <td>88338.0</td>\n",
              "      <td>9.530717</td>\n",
              "    </tr>\n",
              "    <tr>\n",
              "      <th>2</th>\n",
              "      <td>86006.0</td>\n",
              "      <td>9.530717</td>\n",
              "    </tr>\n",
              "    <tr>\n",
              "      <th>3</th>\n",
              "      <td>85861.0</td>\n",
              "      <td>9.530717</td>\n",
              "    </tr>\n",
              "    <tr>\n",
              "      <th>4</th>\n",
              "      <td>83971.0</td>\n",
              "      <td>9.530717</td>\n",
              "    </tr>\n",
              "    <tr>\n",
              "      <th>...</th>\n",
              "      <td>...</td>\n",
              "      <td>...</td>\n",
              "    </tr>\n",
              "    <tr>\n",
              "      <th>3820</th>\n",
              "      <td>84.0</td>\n",
              "      <td>-0.655177</td>\n",
              "    </tr>\n",
              "    <tr>\n",
              "      <th>3821</th>\n",
              "      <td>83.0</td>\n",
              "      <td>-0.655177</td>\n",
              "    </tr>\n",
              "    <tr>\n",
              "      <th>3822</th>\n",
              "      <td>81.0</td>\n",
              "      <td>-0.655177</td>\n",
              "    </tr>\n",
              "    <tr>\n",
              "      <th>3823</th>\n",
              "      <td>80.0</td>\n",
              "      <td>-0.655177</td>\n",
              "    </tr>\n",
              "    <tr>\n",
              "      <th>3824</th>\n",
              "      <td>77.0</td>\n",
              "      <td>-0.655177</td>\n",
              "    </tr>\n",
              "  </tbody>\n",
              "</table>\n",
              "<p>3825 rows × 2 columns</p>\n",
              "</div>\n",
              "      <button class=\"colab-df-convert\" onclick=\"convertToInteractive('df-134bf2f4-51f3-4804-9e6c-5489052d2276')\"\n",
              "              title=\"Convert this dataframe to an interactive table.\"\n",
              "              style=\"display:none;\">\n",
              "        \n",
              "  <svg xmlns=\"http://www.w3.org/2000/svg\" height=\"24px\"viewBox=\"0 0 24 24\"\n",
              "       width=\"24px\">\n",
              "    <path d=\"M0 0h24v24H0V0z\" fill=\"none\"/>\n",
              "    <path d=\"M18.56 5.44l.94 2.06.94-2.06 2.06-.94-2.06-.94-.94-2.06-.94 2.06-2.06.94zm-11 1L8.5 8.5l.94-2.06 2.06-.94-2.06-.94L8.5 2.5l-.94 2.06-2.06.94zm10 10l.94 2.06.94-2.06 2.06-.94-2.06-.94-.94-2.06-.94 2.06-2.06.94z\"/><path d=\"M17.41 7.96l-1.37-1.37c-.4-.4-.92-.59-1.43-.59-.52 0-1.04.2-1.43.59L10.3 9.45l-7.72 7.72c-.78.78-.78 2.05 0 2.83L4 21.41c.39.39.9.59 1.41.59.51 0 1.02-.2 1.41-.59l7.78-7.78 2.81-2.81c.8-.78.8-2.07 0-2.86zM5.41 20L4 18.59l7.72-7.72 1.47 1.35L5.41 20z\"/>\n",
              "  </svg>\n",
              "      </button>\n",
              "      \n",
              "  <style>\n",
              "    .colab-df-container {\n",
              "      display:flex;\n",
              "      flex-wrap:wrap;\n",
              "      gap: 12px;\n",
              "    }\n",
              "\n",
              "    .colab-df-convert {\n",
              "      background-color: #E8F0FE;\n",
              "      border: none;\n",
              "      border-radius: 50%;\n",
              "      cursor: pointer;\n",
              "      display: none;\n",
              "      fill: #1967D2;\n",
              "      height: 32px;\n",
              "      padding: 0 0 0 0;\n",
              "      width: 32px;\n",
              "    }\n",
              "\n",
              "    .colab-df-convert:hover {\n",
              "      background-color: #E2EBFA;\n",
              "      box-shadow: 0px 1px 2px rgba(60, 64, 67, 0.3), 0px 1px 3px 1px rgba(60, 64, 67, 0.15);\n",
              "      fill: #174EA6;\n",
              "    }\n",
              "\n",
              "    [theme=dark] .colab-df-convert {\n",
              "      background-color: #3B4455;\n",
              "      fill: #D2E3FC;\n",
              "    }\n",
              "\n",
              "    [theme=dark] .colab-df-convert:hover {\n",
              "      background-color: #434B5C;\n",
              "      box-shadow: 0px 1px 3px 1px rgba(0, 0, 0, 0.15);\n",
              "      filter: drop-shadow(0px 1px 2px rgba(0, 0, 0, 0.3));\n",
              "      fill: #FFFFFF;\n",
              "    }\n",
              "  </style>\n",
              "\n",
              "      <script>\n",
              "        const buttonEl =\n",
              "          document.querySelector('#df-134bf2f4-51f3-4804-9e6c-5489052d2276 button.colab-df-convert');\n",
              "        buttonEl.style.display =\n",
              "          google.colab.kernel.accessAllowed ? 'block' : 'none';\n",
              "\n",
              "        async function convertToInteractive(key) {\n",
              "          const element = document.querySelector('#df-134bf2f4-51f3-4804-9e6c-5489052d2276');\n",
              "          const dataTable =\n",
              "            await google.colab.kernel.invokeFunction('convertToInteractive',\n",
              "                                                     [key], {});\n",
              "          if (!dataTable) return;\n",
              "\n",
              "          const docLinkHtml = 'Like what you see? Visit the ' +\n",
              "            '<a target=\"_blank\" href=https://colab.research.google.com/notebooks/data_table.ipynb>data table notebook</a>'\n",
              "            + ' to learn more about interactive tables.';\n",
              "          element.innerHTML = '';\n",
              "          dataTable['output_type'] = 'display_data';\n",
              "          await google.colab.output.renderOutput(dataTable, element);\n",
              "          const docLink = document.createElement('div');\n",
              "          docLink.innerHTML = docLinkHtml;\n",
              "          element.appendChild(docLink);\n",
              "        }\n",
              "      </script>\n",
              "    </div>\n",
              "  </div>\n",
              "  "
            ]
          },
          "metadata": {},
          "execution_count": 46
        }
      ]
    },
    {
      "cell_type": "code",
      "source": [
        "# Import necessary modules \n",
        "import pandas as pd\n",
        "import matplotlib.pyplot as plt\n",
        "import numpy as np\n",
        "from sklearn.neighbors import KNeighborsClassifier \n",
        "from sklearn.model_selection import train_test_split  \n",
        "from sklearn.datasets import make_classification\n",
        "from sklearn.metrics import plot_confusion_matrix\n",
        "from sklearn.model_selection import train_test_split\n",
        "from sklearn.svm import SVC\n",
        "\n",
        "iris = ds\n",
        "#Drop id column\n",
        "\n",
        "#setting matric\n",
        "metriclist=[\"euclidean\",\"manhattan\",\"minkowski\"]\n",
        "X = ds.iloc[:, [-10,-4]].values\n",
        "y = ds.iloc[:, -1].values\n",
        "\n",
        "#testing with all measures\n",
        "for b in range(0,2):\n",
        "  #Split arrays or matrices into train and test subsets\n",
        "  X_train, X_test, y_train, y_test = train_test_split(X, y, test_size=0.20) \n",
        "  knn = KNeighborsClassifier(n_neighbors=6,metric=metriclist[b])\n",
        "  knn.fit(X_train,y_train)\n",
        "\n",
        "  print(\"Preliminary model score:\")\n",
        "  print(knn.score(X_test,y_test))\n",
        "\n",
        "  no_neighbors = np.arange(1, 9)\n",
        "  train_accuracy = np.empty(len(no_neighbors))\n",
        "  test_accuracy = np.empty(len(no_neighbors))\n",
        "\n",
        "  for i, k in enumerate(no_neighbors):\n",
        "      # We instantiate the classifier\n",
        "      knn = KNeighborsClassifier(n_neighbors=k)\n",
        "      # Fit the classifier to the training data\n",
        "      knn.fit(X_train,y_train)\n",
        "      \n",
        "      # Compute accuracy on the training set\n",
        "      train_accuracy[i] = knn.score(X_train, y_train)\n",
        "\n",
        "      # Compute accuracy on the testing set\n",
        "      test_accuracy[i] = knn.score(X_test, y_test)\n",
        "\n",
        "  # Visualization of k values vs accuracy\n",
        "\n",
        "  plt.title('k-NN: Varying Number of Neighbors')\n",
        "  plt.plot(no_neighbors, test_accuracy, label = 'Testing Accuracy')\n",
        "  plt.plot(no_neighbors, train_accuracy, label = 'Training Accuracy')\n",
        "  plt.legend()\n",
        "  plt.xlabel('Number of Neighbors')\n",
        "  plt.ylabel('Accuracy')\n",
        "  plt.show()\n",
        "\n",
        "  X, y = make_classification(random_state=0)\n",
        "  X_train, X_test, y_train, y_test = train_test_split(X, y, random_state=0)\n",
        "  clf = SVC(random_state=0)\n",
        "  clf.fit(X_train, y_train)\n",
        "  SVC(random_state=0)\n",
        "  plot_confusion_matrix(clf, X_test, y_test)  \n",
        "  plt.show()\n",
        "\n",
        "\n"
      ],
      "metadata": {
        "colab": {
          "base_uri": "https://localhost:8080/",
          "height": 1000
        },
        "id": "F_mOlRUidmcR",
        "outputId": "f055c8e2-e4a3-4d11-d62d-4e2e9d8df490"
      },
      "execution_count": null,
      "outputs": [
        {
          "output_type": "stream",
          "name": "stdout",
          "text": [
            "Preliminary model score:\n",
            "0.32287581699346407\n"
          ]
        },
        {
          "output_type": "display_data",
          "data": {
            "text/plain": [
              "<Figure size 432x288 with 1 Axes>"
            ],
            "image/png": "[encoded data removed]"
          },
          "metadata": {
            "needs_background": "light"
          }
        },
        {
          "output_type": "stream",
          "name": "stderr",
          "text": [
            "/usr/local/lib/python3.7/dist-packages/sklearn/utils/deprecation.py:87: FutureWarning: Function plot_confusion_matrix is deprecated; Function `plot_confusion_matrix` is deprecated in 1.0 and will be removed in 1.2. Use one of the class methods: ConfusionMatrixDisplay.from_predictions or ConfusionMatrixDisplay.from_estimator.\n",
            "  warnings.warn(msg, category=FutureWarning)\n"
          ]
        },
        {
          "output_type": "display_data",
          "data": {
            "text/plain": [
              "<Figure size 432x288 with 2 Axes>"
            ],
            "image/png": "[encoded data removed]"
          },
          "metadata": {
            "needs_background": "light"
          }
        },
        {
          "output_type": "stream",
          "name": "stdout",
          "text": [
            "Preliminary model score:\n",
            "0.8\n"
          ]
        },
        {
          "output_type": "display_data",
          "data": {
            "text/plain": [
              "<Figure size 432x288 with 1 Axes>"
            ],
            "image/png": "[encoded data removed]"
          },
          "metadata": {
            "needs_background": "light"
          }
        },
        {
          "output_type": "stream",
          "name": "stderr",
          "text": [
            "/usr/local/lib/python3.7/dist-packages/sklearn/utils/deprecation.py:87: FutureWarning: Function plot_confusion_matrix is deprecated; Function `plot_confusion_matrix` is deprecated in 1.0 and will be removed in 1.2. Use one of the class methods: ConfusionMatrixDisplay.from_predictions or ConfusionMatrixDisplay.from_estimator.\n",
            "  warnings.warn(msg, category=FutureWarning)\n"
          ]
        },
        {
          "output_type": "display_data",
          "data": {
            "text/plain": [
              "<Figure size 432x288 with 2 Axes>"
            ],
            "image/png": "[encoded data removed]"
          },
          "metadata": {
            "needs_background": "light"
          }
        }
      ]
    },
    {
      "cell_type": "markdown",
      "source": [
        "## **Testing againt cpuMark and threadMark**"
      ],
      "metadata": {
        "id": "wyBp7fyleEr7"
      }
    },
    {
      "cell_type": "code",
      "source": [
        "ds.iloc[:, [-10,4]]"
      ],
      "metadata": {
        "colab": {
          "base_uri": "https://localhost:8080/",
          "height": 424
        },
        "id": "kELq4hJMeGr0",
        "outputId": "d41d51b7-111f-489c-8e5d-39df69a1ab57"
      },
      "execution_count": null,
      "outputs": [
        {
          "output_type": "execute_result",
          "data": {
            "text/plain": [
              "       cpuMark  threadMark\n",
              "0     108822.0      3330.0\n",
              "1      88338.0      2635.0\n",
              "2      86006.0      2387.0\n",
              "3      85861.0      2727.0\n",
              "4      83971.0      2626.0\n",
              "...        ...         ...\n",
              "3820      84.0       225.0\n",
              "3821      83.0       180.0\n",
              "3822      81.0       223.0\n",
              "3823      80.0        83.0\n",
              "3824      77.0       203.0\n",
              "\n",
              "[3825 rows x 2 columns]"
            ],
            "text/html": [
              "\n",
              "  <div id=\"df-c7a43246-3c9f-4655-b34d-9a456042e517\">\n",
              "    <div class=\"colab-df-container\">\n",
              "      <div>\n",
              "<style scoped>\n",
              "    .dataframe tbody tr th:only-of-type {\n",
              "        vertical-align: middle;\n",
              "    }\n",
              "\n",
              "    .dataframe tbody tr th {\n",
              "        vertical-align: top;\n",
              "    }\n",
              "\n",
              "    .dataframe thead th {\n",
              "        text-align: right;\n",
              "    }\n",
              "</style>\n",
              "<table border=\"1\" class=\"dataframe\">\n",
              "  <thead>\n",
              "    <tr style=\"text-align: right;\">\n",
              "      <th></th>\n",
              "      <th>cpuMark</th>\n",
              "      <th>threadMark</th>\n",
              "    </tr>\n",
              "  </thead>\n",
              "  <tbody>\n",
              "    <tr>\n",
              "      <th>0</th>\n",
              "      <td>108822.0</td>\n",
              "      <td>3330.0</td>\n",
              "    </tr>\n",
              "    <tr>\n",
              "      <th>1</th>\n",
              "      <td>88338.0</td>\n",
              "      <td>2635.0</td>\n",
              "    </tr>\n",
              "    <tr>\n",
              "      <th>2</th>\n",
              "      <td>86006.0</td>\n",
              "      <td>2387.0</td>\n",
              "    </tr>\n",
              "    <tr>\n",
              "      <th>3</th>\n",
              "      <td>85861.0</td>\n",
              "      <td>2727.0</td>\n",
              "    </tr>\n",
              "    <tr>\n",
              "      <th>4</th>\n",
              "      <td>83971.0</td>\n",
              "      <td>2626.0</td>\n",
              "    </tr>\n",
              "    <tr>\n",
              "      <th>...</th>\n",
              "      <td>...</td>\n",
              "      <td>...</td>\n",
              "    </tr>\n",
              "    <tr>\n",
              "      <th>3820</th>\n",
              "      <td>84.0</td>\n",
              "      <td>225.0</td>\n",
              "    </tr>\n",
              "    <tr>\n",
              "      <th>3821</th>\n",
              "      <td>83.0</td>\n",
              "      <td>180.0</td>\n",
              "    </tr>\n",
              "    <tr>\n",
              "      <th>3822</th>\n",
              "      <td>81.0</td>\n",
              "      <td>223.0</td>\n",
              "    </tr>\n",
              "    <tr>\n",
              "      <th>3823</th>\n",
              "      <td>80.0</td>\n",
              "      <td>83.0</td>\n",
              "    </tr>\n",
              "    <tr>\n",
              "      <th>3824</th>\n",
              "      <td>77.0</td>\n",
              "      <td>203.0</td>\n",
              "    </tr>\n",
              "  </tbody>\n",
              "</table>\n",
              "<p>3825 rows × 2 columns</p>\n",
              "</div>\n",
              "      <button class=\"colab-df-convert\" onclick=\"convertToInteractive('df-c7a43246-3c9f-4655-b34d-9a456042e517')\"\n",
              "              title=\"Convert this dataframe to an interactive table.\"\n",
              "              style=\"display:none;\">\n",
              "        \n",
              "  <svg xmlns=\"http://www.w3.org/2000/svg\" height=\"24px\"viewBox=\"0 0 24 24\"\n",
              "       width=\"24px\">\n",
              "    <path d=\"M0 0h24v24H0V0z\" fill=\"none\"/>\n",
              "    <path d=\"M18.56 5.44l.94 2.06.94-2.06 2.06-.94-2.06-.94-.94-2.06-.94 2.06-2.06.94zm-11 1L8.5 8.5l.94-2.06 2.06-.94-2.06-.94L8.5 2.5l-.94 2.06-2.06.94zm10 10l.94 2.06.94-2.06 2.06-.94-2.06-.94-.94-2.06-.94 2.06-2.06.94z\"/><path d=\"M17.41 7.96l-1.37-1.37c-.4-.4-.92-.59-1.43-.59-.52 0-1.04.2-1.43.59L10.3 9.45l-7.72 7.72c-.78.78-.78 2.05 0 2.83L4 21.41c.39.39.9.59 1.41.59.51 0 1.02-.2 1.41-.59l7.78-7.78 2.81-2.81c.8-.78.8-2.07 0-2.86zM5.41 20L4 18.59l7.72-7.72 1.47 1.35L5.41 20z\"/>\n",
              "  </svg>\n",
              "      </button>\n",
              "      \n",
              "  <style>\n",
              "    .colab-df-container {\n",
              "      display:flex;\n",
              "      flex-wrap:wrap;\n",
              "      gap: 12px;\n",
              "    }\n",
              "\n",
              "    .colab-df-convert {\n",
              "      background-color: #E8F0FE;\n",
              "      border: none;\n",
              "      border-radius: 50%;\n",
              "      cursor: pointer;\n",
              "      display: none;\n",
              "      fill: #1967D2;\n",
              "      height: 32px;\n",
              "      padding: 0 0 0 0;\n",
              "      width: 32px;\n",
              "    }\n",
              "\n",
              "    .colab-df-convert:hover {\n",
              "      background-color: #E2EBFA;\n",
              "      box-shadow: 0px 1px 2px rgba(60, 64, 67, 0.3), 0px 1px 3px 1px rgba(60, 64, 67, 0.15);\n",
              "      fill: #174EA6;\n",
              "    }\n",
              "\n",
              "    [theme=dark] .colab-df-convert {\n",
              "      background-color: #3B4455;\n",
              "      fill: #D2E3FC;\n",
              "    }\n",
              "\n",
              "    [theme=dark] .colab-df-convert:hover {\n",
              "      background-color: #434B5C;\n",
              "      box-shadow: 0px 1px 3px 1px rgba(0, 0, 0, 0.15);\n",
              "      filter: drop-shadow(0px 1px 2px rgba(0, 0, 0, 0.3));\n",
              "      fill: #FFFFFF;\n",
              "    }\n",
              "  </style>\n",
              "\n",
              "      <script>\n",
              "        const buttonEl =\n",
              "          document.querySelector('#df-c7a43246-3c9f-4655-b34d-9a456042e517 button.colab-df-convert');\n",
              "        buttonEl.style.display =\n",
              "          google.colab.kernel.accessAllowed ? 'block' : 'none';\n",
              "\n",
              "        async function convertToInteractive(key) {\n",
              "          const element = document.querySelector('#df-c7a43246-3c9f-4655-b34d-9a456042e517');\n",
              "          const dataTable =\n",
              "            await google.colab.kernel.invokeFunction('convertToInteractive',\n",
              "                                                     [key], {});\n",
              "          if (!dataTable) return;\n",
              "\n",
              "          const docLinkHtml = 'Like what you see? Visit the ' +\n",
              "            '<a target=\"_blank\" href=https://colab.research.google.com/notebooks/data_table.ipynb>data table notebook</a>'\n",
              "            + ' to learn more about interactive tables.';\n",
              "          element.innerHTML = '';\n",
              "          dataTable['output_type'] = 'display_data';\n",
              "          await google.colab.output.renderOutput(dataTable, element);\n",
              "          const docLink = document.createElement('div');\n",
              "          docLink.innerHTML = docLinkHtml;\n",
              "          element.appendChild(docLink);\n",
              "        }\n",
              "      </script>\n",
              "    </div>\n",
              "  </div>\n",
              "  "
            ]
          },
          "metadata": {},
          "execution_count": 48
        }
      ]
    },
    {
      "cell_type": "code",
      "source": [
        "# Import necessary modules \n",
        "import pandas as pd\n",
        "import matplotlib.pyplot as plt\n",
        "import numpy as np\n",
        "from sklearn.neighbors import KNeighborsClassifier \n",
        "from sklearn.model_selection import train_test_split  \n",
        "from sklearn.datasets import make_classification\n",
        "from sklearn.metrics import plot_confusion_matrix\n",
        "from sklearn.model_selection import train_test_split\n",
        "from sklearn.svm import SVC\n",
        "\n",
        "iris = ds\n",
        "#Drop id column\n",
        "\n",
        "#setting matric\n",
        "metriclist=[\"euclidean\",\"manhattan\",\"minkowski\"]\n",
        "X = ds.iloc[:, [-10,4]].values\n",
        "y = ds.iloc[:, -1].values\n",
        "\n",
        "#testing with all measures\n",
        "for b in range(0,3):\n",
        "  #Split arrays or matrices into train and test subsets\n",
        "  X_train, X_test, y_train, y_test = train_test_split(X, y, test_size=0.20) \n",
        "  knn = KNeighborsClassifier(n_neighbors=6,metric=metriclist[b])\n",
        "  knn.fit(X_train,y_train)\n",
        "\n",
        "  print(\"Distance Measur:\"+metriclist[b])\n",
        "  print(\"Preliminary model score:\")\n",
        "  print(knn.score(X_test,y_test))\n",
        "\n",
        "  no_neighbors = np.arange(1, 9)\n",
        "  train_accuracy = np.empty(len(no_neighbors))\n",
        "  test_accuracy = np.empty(len(no_neighbors))\n",
        "\n",
        "  for i, k in enumerate(no_neighbors):\n",
        "      # We instantiate the classifier\n",
        "      knn = KNeighborsClassifier(n_neighbors=k)\n",
        "      # Fit the classifier to the training data\n",
        "      knn.fit(X_train,y_train)\n",
        "      \n",
        "      # Compute accuracy on the training set\n",
        "      train_accuracy[i] = knn.score(X_train, y_train)\n",
        "\n",
        "      # Compute accuracy on the testing set\n",
        "      test_accuracy[i] = knn.score(X_test, y_test)\n",
        "\n",
        "  # Visualization of k values vs accuracy\n",
        "\n",
        "  plt.title('k-NN: Varying Number of Neighbors')\n",
        "  plt.plot(no_neighbors, test_accuracy, label = 'Testing Accuracy')\n",
        "  plt.plot(no_neighbors, train_accuracy, label = 'Training Accuracy')\n",
        "  plt.legend()\n",
        "  plt.xlabel('Number of Neighbors')\n",
        "  plt.ylabel('Accuracy')\n",
        "  plt.show()\n",
        "\n",
        "  X, y = make_classification(random_state=0)\n",
        "  X_train, X_test, y_train, y_test = train_test_split(X, y, random_state=0)\n",
        "  clf = SVC(random_state=0)\n",
        "  clf.fit(X_train, y_train)\n",
        "  SVC(random_state=0)\n",
        "  plot_confusion_matrix(clf, X_test, y_test)  \n",
        "  plt.show()\n",
        "\n",
        "\n"
      ],
      "metadata": {
        "colab": {
          "base_uri": "https://localhost:8080/",
          "height": 1000
        },
        "id": "LYd0aCQ_escr",
        "outputId": "c76b565d-c2aa-4c8f-f288-4c5f43a7502a"
      },
      "execution_count": null,
      "outputs": [
        {
          "output_type": "stream",
          "name": "stdout",
          "text": [
            "Distance Measur:euclidean\n",
            "Preliminary model score:\n",
            "0.5281045751633987\n"
          ]
        },
        {
          "output_type": "display_data",
          "data": {
            "text/plain": [
              "<Figure size 432x288 with 1 Axes>"
            ],
            "image/png": "[encoded data removed]"
          },
          "metadata": {
            "needs_background": "light"
          }
        },
        {
          "output_type": "stream",
          "name": "stderr",
          "text": [
            "/usr/local/lib/python3.7/dist-packages/sklearn/utils/deprecation.py:87: FutureWarning: Function plot_confusion_matrix is deprecated; Function `plot_confusion_matrix` is deprecated in 1.0 and will be removed in 1.2. Use one of the class methods: ConfusionMatrixDisplay.from_predictions or ConfusionMatrixDisplay.from_estimator.\n",
            "  warnings.warn(msg, category=FutureWarning)\n"
          ]
        },
        {
          "output_type": "display_data",
          "data": {
            "text/plain": [
              "<Figure size 432x288 with 2 Axes>"
            ],
            "image/png": "[encoded data removed]"
          },
          "metadata": {
            "needs_background": "light"
          }
        },
        {
          "output_type": "stream",
          "name": "stdout",
          "text": [
            "Distance Measur:manhattan\n",
            "Preliminary model score:\n",
            "0.8\n"
          ]
        },
        {
          "output_type": "display_data",
          "data": {
            "text/plain": [
              "<Figure size 432x288 with 1 Axes>"
            ],
            "image/png": "[encoded data removed]"
          },
          "metadata": {
            "needs_background": "light"
          }
        },
        {
          "output_type": "stream",
          "name": "stderr",
          "text": [
            "/usr/local/lib/python3.7/dist-packages/sklearn/utils/deprecation.py:87: FutureWarning: Function plot_confusion_matrix is deprecated; Function `plot_confusion_matrix` is deprecated in 1.0 and will be removed in 1.2. Use one of the class methods: ConfusionMatrixDisplay.from_predictions or ConfusionMatrixDisplay.from_estimator.\n",
            "  warnings.warn(msg, category=FutureWarning)\n"
          ]
        },
        {
          "output_type": "display_data",
          "data": {
            "text/plain": [
              "<Figure size 432x288 with 2 Axes>"
            ],
            "image/png": "[encoded data removed]"
          },
          "metadata": {
            "needs_background": "light"
          }
        },
        {
          "output_type": "stream",
          "name": "stdout",
          "text": [
            "Distance Measur:minkowski\n",
            "Preliminary model score:\n",
            "0.65\n"
          ]
        },
        {
          "output_type": "display_data",
          "data": {
            "text/plain": [
              "<Figure size 432x288 with 1 Axes>"
            ],
            "image/png": "[encoded data removed]"
          },
          "metadata": {
            "needs_background": "light"
          }
        },
        {
          "output_type": "stream",
          "name": "stderr",
          "text": [
            "/usr/local/lib/python3.7/dist-packages/sklearn/utils/deprecation.py:87: FutureWarning: Function plot_confusion_matrix is deprecated; Function `plot_confusion_matrix` is deprecated in 1.0 and will be removed in 1.2. Use one of the class methods: ConfusionMatrixDisplay.from_predictions or ConfusionMatrixDisplay.from_estimator.\n",
            "  warnings.warn(msg, category=FutureWarning)\n"
          ]
        },
        {
          "output_type": "display_data",
          "data": {
            "text/plain": [
              "<Figure size 432x288 with 2 Axes>"
            ],
            "image/png": "[encoded data removed]"
          },
          "metadata": {
            "needs_background": "light"
          }
        }
      ]
    },
    {
      "cell_type": "markdown",
      "source": [
        ""
      ],
      "metadata": {
        "id": "Wq0Wg6aEftQO"
      }
    },
    {
      "cell_type": "code",
      "source": [
        "ds.iloc[:, [-7,-4]]"
      ],
      "metadata": {
        "colab": {
          "base_uri": "https://localhost:8080/",
          "height": 424
        },
        "id": "54iPP3cYfu6e",
        "outputId": "1344f076-f0ef-4847-d5ba-a26c710255cc"
      },
      "execution_count": null,
      "outputs": [
        {
          "output_type": "execute_result",
          "data": {
            "text/plain": [
              "       threadValue     cores\n",
              "0     1.383654e-16  9.530717\n",
              "1    -1.155073e+00  9.530717\n",
              "2     1.383654e-16  9.530717\n",
              "3    -1.152736e+00  9.530717\n",
              "4    -1.152736e+00  9.530717\n",
              "...            ...       ...\n",
              "3820  1.383654e-16 -0.655177\n",
              "3821  1.383654e-16 -0.655177\n",
              "3822  1.383654e-16 -0.655177\n",
              "3823  1.383654e-16 -0.655177\n",
              "3824  1.383654e-16 -0.655177\n",
              "\n",
              "[3825 rows x 2 columns]"
            ],
            "text/html": [
              "\n",
              "  <div id=\"df-3b8c271c-d87d-461c-a5a9-621722741165\">\n",
              "    <div class=\"colab-df-container\">\n",
              "      <div>\n",
              "<style scoped>\n",
              "    .dataframe tbody tr th:only-of-type {\n",
              "        vertical-align: middle;\n",
              "    }\n",
              "\n",
              "    .dataframe tbody tr th {\n",
              "        vertical-align: top;\n",
              "    }\n",
              "\n",
              "    .dataframe thead th {\n",
              "        text-align: right;\n",
              "    }\n",
              "</style>\n",
              "<table border=\"1\" class=\"dataframe\">\n",
              "  <thead>\n",
              "    <tr style=\"text-align: right;\">\n",
              "      <th></th>\n",
              "      <th>threadValue</th>\n",
              "      <th>cores</th>\n",
              "    </tr>\n",
              "  </thead>\n",
              "  <tbody>\n",
              "    <tr>\n",
              "      <th>0</th>\n",
              "      <td>1.383654e-16</td>\n",
              "      <td>9.530717</td>\n",
              "    </tr>\n",
              "    <tr>\n",
              "      <th>1</th>\n",
              "      <td>-1.155073e+00</td>\n",
              "      <td>9.530717</td>\n",
              "    </tr>\n",
              "    <tr>\n",
              "      <th>2</th>\n",
              "      <td>1.383654e-16</td>\n",
              "      <td>9.530717</td>\n",
              "    </tr>\n",
              "    <tr>\n",
              "      <th>3</th>\n",
              "      <td>-1.152736e+00</td>\n",
              "      <td>9.530717</td>\n",
              "    </tr>\n",
              "    <tr>\n",
              "      <th>4</th>\n",
              "      <td>-1.152736e+00</td>\n",
              "      <td>9.530717</td>\n",
              "    </tr>\n",
              "    <tr>\n",
              "      <th>...</th>\n",
              "      <td>...</td>\n",
              "      <td>...</td>\n",
              "    </tr>\n",
              "    <tr>\n",
              "      <th>3820</th>\n",
              "      <td>1.383654e-16</td>\n",
              "      <td>-0.655177</td>\n",
              "    </tr>\n",
              "    <tr>\n",
              "      <th>3821</th>\n",
              "      <td>1.383654e-16</td>\n",
              "      <td>-0.655177</td>\n",
              "    </tr>\n",
              "    <tr>\n",
              "      <th>3822</th>\n",
              "      <td>1.383654e-16</td>\n",
              "      <td>-0.655177</td>\n",
              "    </tr>\n",
              "    <tr>\n",
              "      <th>3823</th>\n",
              "      <td>1.383654e-16</td>\n",
              "      <td>-0.655177</td>\n",
              "    </tr>\n",
              "    <tr>\n",
              "      <th>3824</th>\n",
              "      <td>1.383654e-16</td>\n",
              "      <td>-0.655177</td>\n",
              "    </tr>\n",
              "  </tbody>\n",
              "</table>\n",
              "<p>3825 rows × 2 columns</p>\n",
              "</div>\n",
              "      <button class=\"colab-df-convert\" onclick=\"convertToInteractive('df-3b8c271c-d87d-461c-a5a9-621722741165')\"\n",
              "              title=\"Convert this dataframe to an interactive table.\"\n",
              "              style=\"display:none;\">\n",
              "        \n",
              "  <svg xmlns=\"http://www.w3.org/2000/svg\" height=\"24px\"viewBox=\"0 0 24 24\"\n",
              "       width=\"24px\">\n",
              "    <path d=\"M0 0h24v24H0V0z\" fill=\"none\"/>\n",
              "    <path d=\"M18.56 5.44l.94 2.06.94-2.06 2.06-.94-2.06-.94-.94-2.06-.94 2.06-2.06.94zm-11 1L8.5 8.5l.94-2.06 2.06-.94-2.06-.94L8.5 2.5l-.94 2.06-2.06.94zm10 10l.94 2.06.94-2.06 2.06-.94-2.06-.94-.94-2.06-.94 2.06-2.06.94z\"/><path d=\"M17.41 7.96l-1.37-1.37c-.4-.4-.92-.59-1.43-.59-.52 0-1.04.2-1.43.59L10.3 9.45l-7.72 7.72c-.78.78-.78 2.05 0 2.83L4 21.41c.39.39.9.59 1.41.59.51 0 1.02-.2 1.41-.59l7.78-7.78 2.81-2.81c.8-.78.8-2.07 0-2.86zM5.41 20L4 18.59l7.72-7.72 1.47 1.35L5.41 20z\"/>\n",
              "  </svg>\n",
              "      </button>\n",
              "      \n",
              "  <style>\n",
              "    .colab-df-container {\n",
              "      display:flex;\n",
              "      flex-wrap:wrap;\n",
              "      gap: 12px;\n",
              "    }\n",
              "\n",
              "    .colab-df-convert {\n",
              "      background-color: #E8F0FE;\n",
              "      border: none;\n",
              "      border-radius: 50%;\n",
              "      cursor: pointer;\n",
              "      display: none;\n",
              "      fill: #1967D2;\n",
              "      height: 32px;\n",
              "      padding: 0 0 0 0;\n",
              "      width: 32px;\n",
              "    }\n",
              "\n",
              "    .colab-df-convert:hover {\n",
              "      background-color: #E2EBFA;\n",
              "      box-shadow: 0px 1px 2px rgba(60, 64, 67, 0.3), 0px 1px 3px 1px rgba(60, 64, 67, 0.15);\n",
              "      fill: #174EA6;\n",
              "    }\n",
              "\n",
              "    [theme=dark] .colab-df-convert {\n",
              "      background-color: #3B4455;\n",
              "      fill: #D2E3FC;\n",
              "    }\n",
              "\n",
              "    [theme=dark] .colab-df-convert:hover {\n",
              "      background-color: #434B5C;\n",
              "      box-shadow: 0px 1px 3px 1px rgba(0, 0, 0, 0.15);\n",
              "      filter: drop-shadow(0px 1px 2px rgba(0, 0, 0, 0.3));\n",
              "      fill: #FFFFFF;\n",
              "    }\n",
              "  </style>\n",
              "\n",
              "      <script>\n",
              "        const buttonEl =\n",
              "          document.querySelector('#df-3b8c271c-d87d-461c-a5a9-621722741165 button.colab-df-convert');\n",
              "        buttonEl.style.display =\n",
              "          google.colab.kernel.accessAllowed ? 'block' : 'none';\n",
              "\n",
              "        async function convertToInteractive(key) {\n",
              "          const element = document.querySelector('#df-3b8c271c-d87d-461c-a5a9-621722741165');\n",
              "          const dataTable =\n",
              "            await google.colab.kernel.invokeFunction('convertToInteractive',\n",
              "                                                     [key], {});\n",
              "          if (!dataTable) return;\n",
              "\n",
              "          const docLinkHtml = 'Like what you see? Visit the ' +\n",
              "            '<a target=\"_blank\" href=https://colab.research.google.com/notebooks/data_table.ipynb>data table notebook</a>'\n",
              "            + ' to learn more about interactive tables.';\n",
              "          element.innerHTML = '';\n",
              "          dataTable['output_type'] = 'display_data';\n",
              "          await google.colab.output.renderOutput(dataTable, element);\n",
              "          const docLink = document.createElement('div');\n",
              "          docLink.innerHTML = docLinkHtml;\n",
              "          element.appendChild(docLink);\n",
              "        }\n",
              "      </script>\n",
              "    </div>\n",
              "  </div>\n",
              "  "
            ]
          },
          "metadata": {},
          "execution_count": 50
        }
      ]
    },
    {
      "cell_type": "markdown",
      "source": [
        "## **Testing against threadValue,cores against category**"
      ],
      "metadata": {
        "id": "TfcEHc9ShRR4"
      }
    },
    {
      "cell_type": "code",
      "source": [
        "# Import necessary modules \n",
        "import pandas as pd\n",
        "import matplotlib.pyplot as plt\n",
        "import numpy as np\n",
        "from sklearn.neighbors import KNeighborsClassifier \n",
        "from sklearn.model_selection import train_test_split  \n",
        "from sklearn.datasets import make_classification\n",
        "from sklearn.metrics import plot_confusion_matrix\n",
        "from sklearn.model_selection import train_test_split\n",
        "from sklearn.svm import SVC\n",
        "\n",
        "iris = ds\n",
        "#Drop id column\n",
        "\n",
        "#setting matric\n",
        "metriclist=[\"euclidean\",\"manhattan\",\"minkowski\"]\n",
        "X = ds.iloc[:, [-7,-4]].values\n",
        "y = ds.iloc[:, -1].values\n",
        "\n",
        "#testing with all measures\n",
        "for b in range(0,3):\n",
        "  #Split arrays or matrices into train and test subsets\n",
        "  X_train, X_test, y_train, y_test = train_test_split(X, y, test_size=0.20) \n",
        "  knn = KNeighborsClassifier(n_neighbors=6,metric=metriclist[b])\n",
        "  knn.fit(X_train,y_train)\n",
        "\n",
        "  print(\"Distance Measur:\"+metriclist[b])\n",
        "  print(\"Preliminary model score:\")\n",
        "  print(knn.score(X_test,y_test))\n",
        "\n",
        "  no_neighbors = np.arange(1, 9)\n",
        "  train_accuracy = np.empty(len(no_neighbors))\n",
        "  test_accuracy = np.empty(len(no_neighbors))\n",
        "\n",
        "  for i, k in enumerate(no_neighbors):\n",
        "      # We instantiate the classifier\n",
        "      knn = KNeighborsClassifier(n_neighbors=k)\n",
        "      # Fit the classifier to the training data\n",
        "      knn.fit(X_train,y_train)\n",
        "      \n",
        "      # Compute accuracy on the training set\n",
        "      train_accuracy[i] = knn.score(X_train, y_train)\n",
        "\n",
        "      # Compute accuracy on the testing set\n",
        "      test_accuracy[i] = knn.score(X_test, y_test)\n",
        "\n",
        "  # Visualization of k values vs accuracy\n",
        "\n",
        "  plt.title('k-NN: Varying Number of Neighbors')\n",
        "  plt.plot(no_neighbors, test_accuracy, label = 'Testing Accuracy')\n",
        "  plt.plot(no_neighbors, train_accuracy, label = 'Training Accuracy')\n",
        "  plt.legend()\n",
        "  plt.xlabel('Number of Neighbors')\n",
        "  plt.ylabel('Accuracy')\n",
        "  plt.show()\n",
        "\n",
        "  X, y = make_classification(random_state=0)\n",
        "  X_train, X_test, y_train, y_test = train_test_split(X, y, random_state=0)\n",
        "  clf = SVC(random_state=0)\n",
        "  clf.fit(X_train, y_train)\n",
        "  SVC(random_state=0)\n",
        "  plot_confusion_matrix(clf, X_test, y_test)  \n",
        "  plt.show()\n",
        "\n",
        "\n"
      ],
      "metadata": {
        "colab": {
          "base_uri": "https://localhost:8080/",
          "height": 1000
        },
        "id": "-VbEW6bOhaOU",
        "outputId": "9c36f05f-7754-4c8d-fd43-584e3bc2fcae"
      },
      "execution_count": null,
      "outputs": [
        {
          "output_type": "stream",
          "name": "stdout",
          "text": [
            "Distance Measur:euclidean\n",
            "Preliminary model score:\n",
            "0.5477124183006536\n"
          ]
        },
        {
          "output_type": "display_data",
          "data": {
            "text/plain": [
              "<Figure size 432x288 with 1 Axes>"
            ],
            "image/png": "[encoded data removed]"
          },
          "metadata": {
            "needs_background": "light"
          }
        },
        {
          "output_type": "stream",
          "name": "stderr",
          "text": [
            "/usr/local/lib/python3.7/dist-packages/sklearn/utils/deprecation.py:87: FutureWarning: Function plot_confusion_matrix is deprecated; Function `plot_confusion_matrix` is deprecated in 1.0 and will be removed in 1.2. Use one of the class methods: ConfusionMatrixDisplay.from_predictions or ConfusionMatrixDisplay.from_estimator.\n",
            "  warnings.warn(msg, category=FutureWarning)\n"
          ]
        },
        {
          "output_type": "display_data",
          "data": {
            "text/plain": [
              "<Figure size 432x288 with 2 Axes>"
            ],
            "image/png": "[encoded data removed]"
          },
          "metadata": {
            "needs_background": "light"
          }
        },
        {
          "output_type": "stream",
          "name": "stdout",
          "text": [
            "Distance Measur:manhattan\n",
            "Preliminary model score:\n",
            "0.7\n"
          ]
        },
        {
          "output_type": "display_data",
          "data": {
            "text/plain": [
              "<Figure size 432x288 with 1 Axes>"
            ],
            "image/png": "[encoded data removed]"
          },
          "metadata": {
            "needs_background": "light"
          }
        },
        {
          "output_type": "stream",
          "name": "stderr",
          "text": [
            "/usr/local/lib/python3.7/dist-packages/sklearn/utils/deprecation.py:87: FutureWarning: Function plot_confusion_matrix is deprecated; Function `plot_confusion_matrix` is deprecated in 1.0 and will be removed in 1.2. Use one of the class methods: ConfusionMatrixDisplay.from_predictions or ConfusionMatrixDisplay.from_estimator.\n",
            "  warnings.warn(msg, category=FutureWarning)\n"
          ]
        },
        {
          "output_type": "display_data",
          "data": {
            "text/plain": [
              "<Figure size 432x288 with 2 Axes>"
            ],
            "image/png": "[encoded data removed]"
          },
          "metadata": {
            "needs_background": "light"
          }
        },
        {
          "output_type": "stream",
          "name": "stdout",
          "text": [
            "Distance Measur:minkowski\n",
            "Preliminary model score:\n",
            "0.7\n"
          ]
        },
        {
          "output_type": "display_data",
          "data": {
            "text/plain": [
              "<Figure size 432x288 with 1 Axes>"
            ],
            "image/png": "[encoded data removed]"
          },
          "metadata": {
            "needs_background": "light"
          }
        },
        {
          "output_type": "stream",
          "name": "stderr",
          "text": [
            "/usr/local/lib/python3.7/dist-packages/sklearn/utils/deprecation.py:87: FutureWarning: Function plot_confusion_matrix is deprecated; Function `plot_confusion_matrix` is deprecated in 1.0 and will be removed in 1.2. Use one of the class methods: ConfusionMatrixDisplay.from_predictions or ConfusionMatrixDisplay.from_estimator.\n",
            "  warnings.warn(msg, category=FutureWarning)\n"
          ]
        },
        {
          "output_type": "display_data",
          "data": {
            "text/plain": [
              "<Figure size 432x288 with 2 Axes>"
            ],
            "image/png": "[encoded data removed]"
          },
          "metadata": {
            "needs_background": "light"
          }
        }
      ]
    },
    {
      "cell_type": "code",
      "source": [
        "from sklearn.naive_bayes import GaussianNB\n",
        "\n",
        "guss = GaussianNB()\n",
        "guss.fit(X_train,y_train)\n",
        "predict = guss.predict(X_test)"
      ],
      "metadata": {
        "id": "EJupNtWpP9Mu"
      },
      "execution_count": null,
      "outputs": []
    },
    {
      "cell_type": "code",
      "source": [
        "print(\"Test Accuracy:\",guss.score(X_score,y_test))\n",
        "gussian = round(guss.score(X_test,y_test)*100,2)\n",
        "gussian"
      ],
      "metadata": {
        "colab": {
          "base_uri": "https://localhost:8080/",
          "height": 202
        },
        "id": "egdIddkhQRsF",
        "outputId": "534ae4e5-c05d-4713-be59-35cc640f6fbf"
      },
      "execution_count": null,
      "outputs": [
        {
          "output_type": "error",
          "ename": "NameError",
          "evalue": "ignored",
          "traceback": [
            "\u001b[0;31m---------------------------------------------------------------------------\u001b[0m",
            "\u001b[0;31mNameError\u001b[0m                                 Traceback (most recent call last)",
            "\u001b[0;32m<ipython-input-53-4689496d66ba>\u001b[0m in \u001b[0;36m<module>\u001b[0;34m()\u001b[0m\n\u001b[0;32m----> 1\u001b[0;31m \u001b[0mprint\u001b[0m\u001b[0;34m(\u001b[0m\u001b[0;34m\"Test Accuracy:\"\u001b[0m\u001b[0;34m,\u001b[0m\u001b[0mguss\u001b[0m\u001b[0;34m.\u001b[0m\u001b[0mscore\u001b[0m\u001b[0;34m(\u001b[0m\u001b[0mX_score\u001b[0m\u001b[0;34m,\u001b[0m\u001b[0my_test\u001b[0m\u001b[0;34m)\u001b[0m\u001b[0;34m)\u001b[0m\u001b[0;34m\u001b[0m\u001b[0;34m\u001b[0m\u001b[0m\n\u001b[0m\u001b[1;32m      2\u001b[0m \u001b[0mgussian\u001b[0m \u001b[0;34m=\u001b[0m \u001b[0mround\u001b[0m\u001b[0;34m(\u001b[0m\u001b[0mguss\u001b[0m\u001b[0;34m.\u001b[0m\u001b[0mscore\u001b[0m\u001b[0;34m(\u001b[0m\u001b[0mX_test\u001b[0m\u001b[0;34m,\u001b[0m\u001b[0my_test\u001b[0m\u001b[0;34m)\u001b[0m\u001b[0;34m*\u001b[0m\u001b[0;36m100\u001b[0m\u001b[0;34m,\u001b[0m\u001b[0;36m2\u001b[0m\u001b[0;34m)\u001b[0m\u001b[0;34m\u001b[0m\u001b[0;34m\u001b[0m\u001b[0m\n\u001b[1;32m      3\u001b[0m \u001b[0mgussian\u001b[0m\u001b[0;34m\u001b[0m\u001b[0;34m\u001b[0m\u001b[0m\n",
            "\u001b[0;31mNameError\u001b[0m: name 'X_score' is not defined"
          ]
        }
      ]
    }
  ]
}